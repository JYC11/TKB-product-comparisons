{
 "cells": [
  {
   "cell_type": "markdown",
   "metadata": {},
   "source": [
    "# Cold Storage scraping"
   ]
  },
  {
   "cell_type": "code",
   "execution_count": 1,
   "metadata": {},
   "outputs": [],
   "source": [
    "from selenium import webdriver #for automatically controlling web browsers\n",
    "from selenium.common.exceptions import TimeoutException\n",
    "from selenium.webdriver.support.wait import WebDriverWait\n",
    "from selenium.webdriver.common.by import By\n",
    "import selenium.webdriver.support.expected_conditions as ec\n",
    "from bs4 import BeautifulSoup\n",
    "import pandas as pd\n",
    "import time\n",
    "import re"
   ]
  },
  {
   "cell_type": "code",
   "execution_count": null,
   "metadata": {},
   "outputs": [],
   "source": [
    "url = \"https://coldstorage.com.sg/mum-baby\""
   ]
  },
  {
   "cell_type": "code",
   "execution_count": null,
   "metadata": {},
   "outputs": [],
   "source": [
    "driver = webdriver.Chrome(\"chromedriver.exe\")\n",
    "driver.get(url)"
   ]
  },
  {
   "cell_type": "code",
   "execution_count": null,
   "metadata": {},
   "outputs": [],
   "source": [
    "start = 0\n",
    "stop = 4000\n",
    "\n",
    "for i in range(20):\n",
    "    driver.execute_script(\"window.scrollTo({}, {});\".format(str(start),str(stop)))\n",
    "    start += 4000\n",
    "    stop += 4000\n",
    "    time.sleep(1)"
   ]
  },
  {
   "cell_type": "code",
   "execution_count": null,
   "metadata": {},
   "outputs": [],
   "source": [
    "driver.execute_script(\"window.scrollTo(0, 0);\")"
   ]
  },
  {
   "cell_type": "code",
   "execution_count": null,
   "metadata": {},
   "outputs": [],
   "source": [
    "def scrollTillBottom(howMany,stop,increment):\n",
    "    start = 0\n",
    "\n",
    "    for i in range(howMany):\n",
    "        driver.execute_script(\"window.scrollTo({}, {});\".format(str(start),str(stop)))\n",
    "        start += increment\n",
    "        stop += increment\n",
    "        time.sleep(1)\n",
    "        \n",
    "    #driver.execute_script(\"window.scrollTo(0, 0);\")"
   ]
  },
  {
   "cell_type": "code",
   "execution_count": null,
   "metadata": {},
   "outputs": [],
   "source": [
    "all_products = driver.find_elements_by_xpath(\"//div[@class='product_box']\")"
   ]
  },
  {
   "cell_type": "code",
   "execution_count": null,
   "metadata": {},
   "outputs": [],
   "source": [
    "product_info = [i.text for i in all_products]"
   ]
  },
  {
   "cell_type": "code",
   "execution_count": null,
   "metadata": {},
   "outputs": [],
   "source": [
    "len(product_info)"
   ]
  },
  {
   "cell_type": "code",
   "execution_count": null,
   "metadata": {},
   "outputs": [],
   "source": [
    "test1 = product_info[-1].split('\\n')\n",
    "len(test1)"
   ]
  },
  {
   "cell_type": "code",
   "execution_count": null,
   "metadata": {},
   "outputs": [],
   "source": [
    "test2 = product_info[0].split('\\n')\n",
    "test2.insert(1,\"NO DISCOUNT\")\n",
    "test2.append(\"IN STOCK\")\n",
    "test2"
   ]
  },
  {
   "cell_type": "code",
   "execution_count": null,
   "metadata": {},
   "outputs": [],
   "source": [
    "'OUT OF STOCK' in product_info[0].split('\\n')"
   ]
  },
  {
   "cell_type": "code",
   "execution_count": null,
   "metadata": {},
   "outputs": [],
   "source": [
    "processed_pinfo = []\n",
    "\n",
    "for product in product_info:\n",
    "    temp = product.split('\\n')\n",
    "    if 'OUT OF STOCK' not in temp[0] and len(temp) == 4:\n",
    "        temp.insert(1,\"NO DISCOUNT/PROMOTION\")\n",
    "        temp.append(\"IN STOCK\")\n",
    "        processed_pinfo.append(temp)\n",
    "    elif 'OUT OF STOCK' not in temp[0] and len(temp) == 5:\n",
    "        temp.append(\"IN STOCK\")\n",
    "        processed_pinfo.append(temp)\n",
    "    elif 'OUT OF STOCK' in temp[0] and len(temp) == 7:\n",
    "        processed_pinfo.append(temp[1:])\n",
    "    elif 'OUT OF STOCK' in temp[0] and len(temp) == 6:\n",
    "        temp = temp[1:]\n",
    "        temp.insert(1,\"NO DISCOUNT/PROMOTION\")\n",
    "        processed_pinfo.append(temp2)\n",
    "    else:\n",
    "        processed_pinfo.append(temp)"
   ]
  },
  {
   "cell_type": "code",
   "execution_count": null,
   "metadata": {},
   "outputs": [],
   "source": [
    "#\n",
    "cold_storage_tkb = pd.DataFrame.from_records(processed_pinfo,columns=[\"price\",\"discount_promotion\",\"brand\",\"name\",\"size\",\"stock\"])"
   ]
  },
  {
   "cell_type": "code",
   "execution_count": null,
   "metadata": {},
   "outputs": [],
   "source": [
    "cold_storage_tkb.head(10)"
   ]
  },
  {
   "cell_type": "code",
   "execution_count": null,
   "metadata": {},
   "outputs": [],
   "source": [
    "cold_storage_tkb.tail(10)"
   ]
  },
  {
   "cell_type": "code",
   "execution_count": null,
   "metadata": {},
   "outputs": [],
   "source": [
    "cold_storage_tkb.price = cold_storage_tkb.price.apply(lambda x: float(x.replace(\"$\",\"\")))"
   ]
  },
  {
   "cell_type": "code",
   "execution_count": 27,
   "metadata": {},
   "outputs": [],
   "source": [
    "def tryReplace(x,target,toWhat):\n",
    "    try:\n",
    "        return x.replace(target,toWhat)\n",
    "    except:\n",
    "        return x"
   ]
  },
  {
   "cell_type": "code",
   "execution_count": null,
   "metadata": {},
   "outputs": [],
   "source": [
    "cold_storage_tkb[\"size\"] = cold_storage_tkb[\"size\"].apply(lambda x: tryReplace(x,\"Size: \",\"\"))"
   ]
  },
  {
   "cell_type": "code",
   "execution_count": null,
   "metadata": {},
   "outputs": [],
   "source": [
    "cold_storage_tkb.to_excel(\"sg_cold_storage_tkb.xlsx\")"
   ]
  },
  {
   "cell_type": "markdown",
   "metadata": {},
   "source": [
    "### just realised in the middle of fair price scraping that I should have scraped cold storage by sub category so consolidated all of the stuff above in a loop and tried again lmao"
   ]
  },
  {
   "cell_type": "code",
   "execution_count": null,
   "metadata": {},
   "outputs": [],
   "source": [
    "#couldn't be bothered to get links from the page with selenium so just did this, will have to figure it out eventually\n",
    "cs_tkb_urls = {\n",
    "    #'baby-milk':'https://coldstorage.com.sg/mum-baby/baby-milk',\n",
    "    #'diapers-wipes':'https://coldstorage.com.sg/mum-baby/diapers-wipes',\n",
    "    #'baby-food':'https://coldstorage.com.sg/mum-baby/baby-food',\n",
    "    'baby-toiletries-laundry':'https://coldstorage.com.sg/mum-baby/baby-toiletries-laundry',\n",
    "    'milk-for-mums':'https://coldstorage.com.sg/mum-baby/milk-for-mums',\n",
    "    'accesories':'https://coldstorage.com.sg/mum-baby/accesories',\n",
    "    'infant-powder':'https://coldstorage.com.sg/mum-baby/infant-powder'\n",
    "}"
   ]
  },
  {
   "cell_type": "code",
   "execution_count": null,
   "metadata": {},
   "outputs": [],
   "source": [
    "driver = webdriver.Chrome(\"chromedriver.exe\")"
   ]
  },
  {
   "cell_type": "code",
   "execution_count": null,
   "metadata": {},
   "outputs": [],
   "source": [
    "for k in cs_tkb_urls.keys():\n",
    "    print(k)\n",
    "    temp_url = cs_tkb_urls[k]\n",
    "    print(temp_url)\n",
    "    print(\"-----going to url-----\")\n",
    "    driver.get(temp_url)\n",
    "    time.sleep(3)\n",
    "    print(\"-----scrolling------\")\n",
    "    keepScrolling()\n",
    "    print(\"-----getting info-----\")\n",
    "    all_products = driver.find_elements_by_xpath(\"//div[@class='product_box']\")\n",
    "    product_info = [i.text for i in all_products]\n",
    "    processed_pinfo = []\n",
    "    print(\"------cleaning info------\")\n",
    "    for product in product_info:\n",
    "        temp = product.split('\\n')\n",
    "        if 'OUT OF STOCK' not in temp[0] and len(temp) == 4:\n",
    "            temp.insert(1,\"NO DISCOUNT/PROMOTION\")\n",
    "            temp.append(\"IN STOCK\")\n",
    "            temp.append(k)\n",
    "            processed_pinfo.append(temp)\n",
    "        elif 'OUT OF STOCK' not in temp[0] and len(temp) == 5:\n",
    "            temp.append(\"IN STOCK\")\n",
    "            temp.append(k)\n",
    "            processed_pinfo.append(temp)\n",
    "        elif 'OUT OF STOCK' in temp[0] and len(temp) == 6:\n",
    "            temp2 = temp[1:]\n",
    "            temp2.insert(1,\"NO DISCOUNT/PROMOTION\")\n",
    "            temp2.append(k)\n",
    "            processed_pinfo.append(temp2)\n",
    "        elif 'OUT OF STOCK' in temp[0] and len(temp) == 7:\n",
    "            to_add = temp[1:].append(k)\n",
    "            processed_pinfo.append(to_add)\n",
    "        else:\n",
    "            processed_pinfo.append(temp)\n",
    "    final = list(filter(None, processed_pinfo)) \n",
    "    print(\"------saving info-------\")\n",
    "    temp_df = pd.DataFrame.from_records(final,columns=[\"price\",\"discount_promotion\",\"brand\",\"name\",\"size\",\"stock\",\"category\"])\n",
    "    temp_df.price = temp_df.price.apply(lambda x: float(x.replace(\"$\",\"\")))\n",
    "    temp_df[\"size\"] = temp_df[\"size\"].apply(lambda x: tryReplace(x,\"Size: \",\"\"))\n",
    "    temp_df.to_excel(\"sg_cold_storage_{}_tkb.xlsx\".format(k))"
   ]
  },
  {
   "cell_type": "markdown",
   "metadata": {},
   "source": [
    "# FAIR PRICE SCRAPING"
   ]
  },
  {
   "cell_type": "code",
   "execution_count": null,
   "metadata": {},
   "outputs": [],
   "source": [
    "fp = \"https://www.fairprice.com.sg/category/baby-child-toys\""
   ]
  },
  {
   "cell_type": "code",
   "execution_count": null,
   "metadata": {},
   "outputs": [],
   "source": [
    "driver.get(fp)"
   ]
  },
  {
   "cell_type": "code",
   "execution_count": 34,
   "metadata": {},
   "outputs": [],
   "source": [
    "def keepScrolling():\n",
    "    SCROLL_PAUSE_TIME = 2.5\n",
    "\n",
    "    # Get scroll height\n",
    "    last_height = driver.execute_script(\"return document.body.scrollHeight\")\n",
    "\n",
    "    while True:\n",
    "        # Scroll down to bottom\n",
    "        driver.execute_script(\"window.scrollTo(0, document.body.scrollHeight);\")\n",
    "\n",
    "        # Wait to load page\n",
    "        time.sleep(SCROLL_PAUSE_TIME)\n",
    "\n",
    "        # Calculate new scroll height and compare with last scroll height\n",
    "        new_height = driver.execute_script(\"return document.body.scrollHeight\")\n",
    "        if new_height == last_height:\n",
    "            break\n",
    "        last_height = new_height"
   ]
  },
  {
   "cell_type": "code",
   "execution_count": null,
   "metadata": {},
   "outputs": [],
   "source": [
    "fp_all_products = driver.find_elements_by_xpath(\"//div[@class='sc-1plwklf-7 jibnUN']\")"
   ]
  },
  {
   "cell_type": "code",
   "execution_count": null,
   "metadata": {},
   "outputs": [],
   "source": [
    "fp_product_info = [i.text for i in fp_all_products]"
   ]
  },
  {
   "cell_type": "code",
   "execution_count": null,
   "metadata": {},
   "outputs": [],
   "source": [
    "fp_tkb_not_categorised = []\n",
    "for x in fp_product_info:\n",
    "    temp = x.split('\\n')\n",
    "    fp_tkb_not_categorised.append(temp)"
   ]
  },
  {
   "cell_type": "code",
   "execution_count": null,
   "metadata": {},
   "outputs": [],
   "source": [
    "fp_not_categorised_tkb = pd.DataFrame.from_records(fp_tkb_not_categorised)"
   ]
  },
  {
   "cell_type": "markdown",
   "metadata": {},
   "source": [
    "### the moment when I realised I should have scraped by subcategory"
   ]
  },
  {
   "cell_type": "code",
   "execution_count": null,
   "metadata": {},
   "outputs": [],
   "source": [
    "fp_not_categorised_tkb.to_excel(\"didnt_wanna_waste.xlsx\")"
   ]
  },
  {
   "cell_type": "markdown",
   "metadata": {},
   "source": [
    "### gonna use the data I scraped from yestereday to get all the edge cases of product info to write a cleaning script to put into the final scraping script"
   ]
  },
  {
   "cell_type": "code",
   "execution_count": 14,
   "metadata": {},
   "outputs": [],
   "source": [
    "all_fp_tkb_df = pd.read_excel(\"didnt_wanna_waste.xlsx\")"
   ]
  },
  {
   "cell_type": "code",
   "execution_count": 15,
   "metadata": {},
   "outputs": [],
   "source": [
    "all_fp_tkb = all_fp_tkb_df.values.tolist()"
   ]
  },
  {
   "cell_type": "code",
   "execution_count": 16,
   "metadata": {},
   "outputs": [
    {
     "data": {
      "text/plain": [
       "['$18.95', 'Pigeon Baby Wet Wipes', '6 x 80 per pack', nan, nan, nan]"
      ]
     },
     "execution_count": 16,
     "metadata": {},
     "output_type": "execute_result"
    }
   ],
   "source": [
    "all_fp_tkb[0]"
   ]
  },
  {
   "cell_type": "code",
   "execution_count": 17,
   "metadata": {},
   "outputs": [],
   "source": [
    "all_fp_tkb = [[str(i) for i in row] for row in all_fp_tkb]"
   ]
  },
  {
   "cell_type": "code",
   "execution_count": 18,
   "metadata": {},
   "outputs": [
    {
     "data": {
      "text/plain": [
       "['$18.95', 'Pigeon Baby Wet Wipes', '6 x 80 per pack', 'nan', 'nan', 'nan']"
      ]
     },
     "execution_count": 18,
     "metadata": {},
     "output_type": "execute_result"
    }
   ],
   "source": [
    "all_fp_tkb[0]"
   ]
  },
  {
   "cell_type": "code",
   "execution_count": 19,
   "metadata": {},
   "outputs": [],
   "source": [
    "all_fp_tkb = [[i for i in row if i != 'nan'] for row in all_fp_tkb]"
   ]
  },
  {
   "cell_type": "code",
   "execution_count": 20,
   "metadata": {},
   "outputs": [
    {
     "data": {
      "text/plain": [
       "['$5.30',\n",
       " 'Abbott Grow Ready To Drink Packet Milk - Vanilla',\n",
       " '4 x 180ml',\n",
       " '•Halal']"
      ]
     },
     "execution_count": 20,
     "metadata": {},
     "output_type": "execute_result"
    }
   ],
   "source": [
    "all_fp_tkb[7]"
   ]
  },
  {
   "cell_type": "code",
   "execution_count": 21,
   "metadata": {},
   "outputs": [
    {
     "data": {
      "text/plain": [
       "[['$18.95', 'Pigeon Baby Wet Wipes', '6 x 80 per pack'],\n",
       " ['$38.50',\n",
       "  '$64.50',\n",
       "  'Drypers Drypantz Pants - L (9 - 14kg)',\n",
       "  '3 x 56 per pack (CTN)'],\n",
       " ['$4.30',\n",
       "  '$4.95',\n",
       "  'FairPrice Baby Wet Wipes - Gently Moisturising',\n",
       "  '200 per pack'],\n",
       " ['$19.95', '$21.95', 'Merries Walker Pants - XXL (15 - 28kg)', '26 per pack'],\n",
       " ['$19.40', 'MamyPoko Extra Dry Pants - XXL (15 - 25kg)', '26 per pack']]"
      ]
     },
     "execution_count": 21,
     "metadata": {},
     "output_type": "execute_result"
    }
   ],
   "source": [
    "all_fp_tkb[:5]"
   ]
  },
  {
   "cell_type": "code",
   "execution_count": 22,
   "metadata": {},
   "outputs": [],
   "source": [
    "data_lens = set([len(i) for i in all_fp_tkb])"
   ]
  },
  {
   "cell_type": "code",
   "execution_count": 23,
   "metadata": {},
   "outputs": [
    {
     "data": {
      "text/plain": [
       "{3, 4, 5, 6}"
      ]
     },
     "execution_count": 23,
     "metadata": {},
     "output_type": "execute_result"
    }
   ],
   "source": [
    "data_lens"
   ]
  },
  {
   "cell_type": "code",
   "execution_count": null,
   "metadata": {},
   "outputs": [],
   "source": [
    "fp_all_products = driver.find_elements_by_xpath(\"//div[@class='sc-1plwklf-7 jibnUN']\")\n",
    "fp_product_info = [i.text for i in fp_all_products]\n",
    "fp_tkb_product_info_processed = []"
   ]
  },
  {
   "cell_type": "code",
   "execution_count": 24,
   "metadata": {},
   "outputs": [],
   "source": [
    "fp_tkb_product_info_processed = []"
   ]
  },
  {
   "cell_type": "code",
   "execution_count": 25,
   "metadata": {},
   "outputs": [],
   "source": [
    "for product in all_fp_tkb: #fp_product_info:\n",
    "    temp = product #.split('\\n')\n",
    "    if len(temp) == 3: #if no discount and no special requirement\n",
    "        temp.insert(1,\"NO DISCOUNT/PROMOTION\")\n",
    "        temp.append(\"-\")\n",
    "        fp_tkb_product_info_processed.append(temp)\n",
    "    elif len(temp) == 4: #if discount and no special requirement\n",
    "        if '$' in temp[1]:\n",
    "            temp.append(\"-\")\n",
    "            fp_tkb_product_info_processed.append(temp)\n",
    "        else: #if no discount and special requirement\n",
    "            temp.insert(1,\"NO DISCOUNT/PROMOTION\")\n",
    "            fp_tkb_product_info_processed.append(temp)\n",
    "    elif len(temp) == 5:\n",
    "        if '$' in temp[1]: #if discount and has special requirement\n",
    "            fp_tkb_product_info_processed.append(temp)\n",
    "        else: #if no discount and two special requirements\n",
    "            temp.insert(1,\"NO DISCOUNT/PROMOTION\")\n",
    "            to_add = temp[:4]\n",
    "            to_add.append(','.join(temp[4:]))\n",
    "            fp_tkb_product_info_processed.append(to_add)\n",
    "    elif len(temp) == 6: #if discount and has 2 special requirement\n",
    "        to_add = temp[:4]\n",
    "        to_add.append(','.join(temp[4:]))\n",
    "        fp_tkb_product_info_processed.append(to_add)"
   ]
  },
  {
   "cell_type": "code",
   "execution_count": 32,
   "metadata": {},
   "outputs": [],
   "source": [
    "final = list(filter(None, fp_tkb_product_info_processed)) \n",
    "temp_df = pd.DataFrame.from_records(final,columns=[\"price\",\"price_before_discount\",\"name\",\"size\",\"special_requirement\"])\n",
    "temp_df.price = temp_df.price.apply(lambda x: float(x.replace(\"$\",\"\")))\n",
    "temp_df.price_before_discount = temp_df.price_before_discount.apply(lambda x: x.replace(\"$\",\"\"))\n",
    "temp_df.special_requirement = temp_df.special_requirement.apply(lambda x: tryReplace(x,\"•\",\"\"))\n",
    "temp_df.to_excel(\"sg_fair_price_{}_tkb.xlsx\")"
   ]
  },
  {
   "cell_type": "code",
   "execution_count": 46,
   "metadata": {},
   "outputs": [],
   "source": [
    "#couldn't be bothered to get links from the page with selenium so just did this, will have to figure it out eventually\n",
    "fp_tkb_links = {\n",
    "    #'nursing-feeding':'https://www.fairprice.com.sg/category/nursing-feeding-1',\n",
    "    #'baby-toiletries':'https://www.fairprice.com.sg/category/baby-toiletries---health',\n",
    "    #'baby-food':'https://www.fairprice.com.sg/category/food',\n",
    "    #'toys':'https://www.fairprice.com.sg/category/toys---play',\n",
    "    #'diapers':'https://www.fairprice.com.sg/category/diapers-3074457345616687146-1',\n",
    "    #'baby-clothing':'https://www.fairprice.com.sg/category/baby-clothing---accessories',\n",
    "    #'milk-powder':'https://www.fairprice.com.sg/category/milk-powder',\n",
    "    #'baby-laundry':'https://www.fairprice.com.sg/category/baby-laundry---cleaning',\n",
    "    #'baby-furniture':'https://www.fairprice.com.sg/category/baby-furniture',\n",
    "    #'baby-gear':'https://www.fairprice.com.sg/category/baby-gear',\n",
    "    #'infant-formula':'https://www.fairprice.com.sg/category/infant-formula--1',\n",
    "    'maternity-for-moms':'https://www.fairprice.com.sg/category/maternity-for-moms',\n",
    "    'baby-safety':'https://www.fairprice.com.sg/category/baby-safety--1',\n",
    "}"
   ]
  },
  {
   "cell_type": "code",
   "execution_count": 35,
   "metadata": {},
   "outputs": [],
   "source": [
    "driver = webdriver.Chrome(\"chromedriver.exe\")"
   ]
  },
  {
   "cell_type": "code",
   "execution_count": 47,
   "metadata": {},
   "outputs": [
    {
     "name": "stdout",
     "output_type": "stream",
     "text": [
      "maternity-for-moms\n",
      "-----going to url-----\n",
      "-----scrolling------\n",
      "-----getting info-----\n",
      "-------saving info-------\n",
      "baby-safety\n",
      "-----going to url-----\n",
      "-----scrolling------\n",
      "-----getting info-----\n",
      "-------saving info-------\n"
     ]
    }
   ],
   "source": [
    "for k in fp_tkb_links.keys():\n",
    "    print(k)\n",
    "    temp_url = fp_tkb_links[k]\n",
    "    print(\"-----going to url-----\")\n",
    "    driver.get(temp_url)\n",
    "    time.sleep(3)\n",
    "    print(\"-----scrolling------\")\n",
    "    keepScrolling()\n",
    "    print(\"-----getting info-----\")\n",
    "    fp_all_products = driver.find_elements_by_xpath(\"//div[@class='sc-1plwklf-7 jibnUN']\")\n",
    "    fp_product_info = [i.text for i in fp_all_products]\n",
    "    fp_tkb_product_info_processed = []\n",
    "    for product in fp_product_info:\n",
    "        temp = product.split('\\n')\n",
    "        if len(temp) == 3: #if no discount and no special requirement\n",
    "            temp.insert(1,\"NO DISCOUNT/PROMOTION\")\n",
    "            temp.append(\"-\")\n",
    "            fp_tkb_product_info_processed.append(temp)\n",
    "        elif len(temp) == 4: #if discount and no special requirement\n",
    "            if '$' in temp[1]:\n",
    "                temp.append(\"-\")\n",
    "                fp_tkb_product_info_processed.append(temp)\n",
    "            else: #if no discount and special requirement\n",
    "                temp.insert(1,\"NO DISCOUNT/PROMOTION\")\n",
    "                fp_tkb_product_info_processed.append(temp)\n",
    "        elif len(temp) == 5:\n",
    "            if '$' in temp[1]: #if discount and has special requirement\n",
    "                fp_tkb_product_info_processed.append(temp)\n",
    "            else: #if no discount and two special requirements\n",
    "                temp.insert(1,\"NO DISCOUNT/PROMOTION\")\n",
    "                to_add = temp[:4]\n",
    "                to_add.append(','.join(temp[4:]))\n",
    "                fp_tkb_product_info_processed.append(to_add)\n",
    "        elif len(temp) == 6: #if discount and has 2 special requirement\n",
    "            to_add = temp[:4]\n",
    "            to_add.append(','.join(temp[4:]))\n",
    "            fp_tkb_product_info_processed.append(to_add)\n",
    "        else:\n",
    "            fp_tkb_product_info_processed.append(temp)\n",
    "    final = list(filter(None, fp_tkb_product_info_processed)) \n",
    "    print(\"-------saving info-------\")\n",
    "    temp_df = pd.DataFrame.from_records(final,columns=[\"price\",\"price_before_discount\",\"name\",\"size\",\"special_requirement\"])\n",
    "    temp_df.price = temp_df.price.apply(lambda x: x.replace(\"$\",\"\"))\n",
    "    temp_df.price_before_discount = temp_df.price_before_discount.apply(lambda x: x.replace(\"$\",\"\"))\n",
    "    temp_df.special_requirement = temp_df.special_requirement.apply(lambda x: tryReplace(x,\"•\",\"\"))\n",
    "    temp_df.to_excel(f'sg_fair_price_{k}_tkb.xlsx',index=False)"
   ]
  },
  {
   "cell_type": "markdown",
   "metadata": {},
   "source": [
    "# HYPERMART"
   ]
  },
  {
   "cell_type": "code",
   "execution_count": 2,
   "metadata": {},
   "outputs": [],
   "source": [
    "driver = webdriver.Chrome(\"chromedriver.exe\")"
   ]
  },
  {
   "cell_type": "code",
   "execution_count": 5,
   "metadata": {},
   "outputs": [],
   "source": [
    "hypermart_url_test = \"https://shop.hypermart.co.id\""
   ]
  },
  {
   "cell_type": "code",
   "execution_count": 6,
   "metadata": {},
   "outputs": [],
   "source": [
    "driver.get(hypermart_url_test)"
   ]
  },
  {
   "cell_type": "code",
   "execution_count": 7,
   "metadata": {},
   "outputs": [],
   "source": [
    "driver.execute_script(\"updateLang('ENG')\")\n",
    "time.sleep(4)"
   ]
  },
  {
   "cell_type": "code",
   "execution_count": 8,
   "metadata": {},
   "outputs": [],
   "source": [
    "driver.execute_script(\"skipSelectStore()\")\n",
    "time.sleep(10)"
   ]
  },
  {
   "cell_type": "markdown",
   "metadata": {},
   "source": [
    "for this site I don't need to loop through the sub cats because the sub-sub categories are in the product information and I can use that to get the sub cat also I can easily manipulate how many products are shown in the page with a query element(? is that what it's called) in the url: https://shop.hypermart.co.id/hypermart/category/D25-BAYI--ANAK?sz=1000\n",
    "the sz allows me to load all the products at once so no pesky loading script or stuff needed."
   ]
  },
  {
   "cell_type": "code",
   "execution_count": 24,
   "metadata": {},
   "outputs": [],
   "source": [
    "initial_scrape = driver.find_elements_by_xpath(\"//div[@class='col']\")"
   ]
  },
  {
   "cell_type": "code",
   "execution_count": 26,
   "metadata": {},
   "outputs": [],
   "source": [
    "extracting_text = [i.text for i in initial_scrape]"
   ]
  },
  {
   "cell_type": "code",
   "execution_count": 27,
   "metadata": {},
   "outputs": [
    {
     "data": {
      "text/plain": [
       "[\"TISSU UNTUK BAYI\\nMAMY POKO B.WPS N.ALCHL N.PARF 52'S EC\\nRP 11.290\\nADD TO CART\",\n",
       " 'AKSESORIS BAYI\\nPIGEON PP WIDE NECK 160ML W/ P-TYPE SILICONE NIPPLE\\nRP 133.900\\nADD TO CART',\n",
       " 'AKSESORIS BAYI\\nPIGEON PP WIDE NECK 240ML W/ P-TYPE SILICONE NIPPLE\\nRP 148.900\\nADD TO CART',\n",
       " 'MAINAN BAYI\\nBABY KLAS BABY TOY BATH SET DUCK RED LIPS 0517\\nRP 52.900\\nADD TO CART',\n",
       " \"TISSU UNTUK BAYI\\nMAMY POKO B. WPS N.ALCHL PARF 52'S EC\\nRP 11.290\\nADD TO CART\",\n",
       " \"Disc\\n2.700\\nTISSU UNTUK BAYI\\nMAMY POKO B WPS AS NP 48'S PAKET 2\\nRP 18.300\\nRP 15.600\\nADD TO CART\",\n",
       " \"Disc\\n2.700\\nTISSU UNTUK BAYI\\nMAMY POKO B WPS EC NP 52'S PAKET 2\\nRP 18.300\\nRP 15.600\\nADD TO CART\",\n",
       " \"Disc\\n1.800\\nTISSU UNTUK BAYI\\nMAMY POKO B WPS A.SEPTIC N.PARF 48'S\\nRP 11.290\\nRP 9.490\\nADD TO CART\",\n",
       " 'Special\\n12.990\\nSEREAL BAYI\\nMILNA BUBUR BAYI TIM HATI AYAM BAYAM 120 GR 6+\\nRP 19.190\\nRP 12.990\\nADD TO CART',\n",
       " 'Special\\n12.990\\nSEREAL BAYI\\nMILNA BUBUR BAYI CAH DAGING KACANG POLONG 120 GR 8+\\nRP 19.190\\nRP 12.990\\nADD TO CART']"
      ]
     },
     "execution_count": 27,
     "metadata": {},
     "output_type": "execute_result"
    }
   ],
   "source": [
    "extracting_text[:10]"
   ]
  },
  {
   "cell_type": "code",
   "execution_count": 29,
   "metadata": {},
   "outputs": [
    {
     "data": {
      "text/plain": [
       "['TISSU UNTUK BAYI',\n",
       " \"MAMY POKO B.WPS N.ALCHL N.PARF 52'S EC\",\n",
       " 'RP 11.290',\n",
       " 'ADD TO CART']"
      ]
     },
     "execution_count": 29,
     "metadata": {},
     "output_type": "execute_result"
    }
   ],
   "source": [
    "extracting_text[0].split('\\n')"
   ]
  },
  {
   "cell_type": "code",
   "execution_count": 54,
   "metadata": {},
   "outputs": [],
   "source": [
    "hypermart_tkb_categories = {\n",
    "    '0 - 6 bulan':'SUSU ANAK DAN IBU',\n",
    "    '1 - 3+ tahun':'SUSU ANAK DAN IBU',\n",
    "    '6 - 12 bulan':'SUSU ANAK DAN IBU',\n",
    "    'susu ibu melahirkan / Mengandung': 'SUSU ANAK DAN IBU',\n",
    "    'aksesoris bayi':'KEBUTUHAN BAYI',\n",
    "    'mainan bayi':'KEBUTUHAN BAYI',\n",
    "    'perawatan kulit bayi':'KEBUTUHAN BAYI',\n",
    "    'perawatan rambut bayi':'KEBUTUHAN BAYI',\n",
    "    'sabun bayi':'KEBUTUHAN BAYI',\n",
    "    'tissu untuk bayi':'KEBUTUHAN BAYI',\n",
    "    'biskuit bayi':'MAKANAN BAYI',\n",
    "    'sereal bayi':'MAKANAN BAYI',\n",
    "    'popok celana':'POPOK BAYI',\n",
    "    'popok kain':'POPOK BAYI',\n",
    "    'popok sekali pakai':'POPOK BAYI'\n",
    "}"
   ]
  },
  {
   "cell_type": "code",
   "execution_count": 30,
   "metadata": {},
   "outputs": [],
   "source": [
    "info_split = [x.split('\\n') for x in extracting_text]"
   ]
  },
  {
   "cell_type": "code",
   "execution_count": 36,
   "metadata": {},
   "outputs": [
    {
     "data": {
      "text/plain": [
       "{4, 6, 7}"
      ]
     },
     "execution_count": 36,
     "metadata": {},
     "output_type": "execute_result"
    }
   ],
   "source": [
    "data_lens_hypermart = set([len(i) for i in info_split])\n",
    "data_lens_hypermart"
   ]
  },
  {
   "cell_type": "code",
   "execution_count": 40,
   "metadata": {},
   "outputs": [
    {
     "data": {
      "text/plain": [
       "['Disc',\n",
       " '2.700',\n",
       " 'TISSU UNTUK BAYI',\n",
       " \"MAMY POKO B WPS AS NP 48'S PAKET 2\",\n",
       " 'RP 18.300',\n",
       " 'RP 15.600',\n",
       " 'ADD TO CART']"
      ]
     },
     "execution_count": 40,
     "metadata": {},
     "output_type": "execute_result"
    }
   ],
   "source": [
    "len_7 = [i for i in info_split if len(i)==7]\n",
    "len_7[0]"
   ]
  },
  {
   "cell_type": "code",
   "execution_count": 41,
   "metadata": {},
   "outputs": [
    {
     "data": {
      "text/plain": [
       "['Special',\n",
       " 'Promo',\n",
       " 'BISKUIT BAYI',\n",
       " 'MILNA BABY BISCUIT BRS MERAH 6+ 130G',\n",
       " 'RP 17.190',\n",
       " 'ADD TO CART']"
      ]
     },
     "execution_count": 41,
     "metadata": {},
     "output_type": "execute_result"
    }
   ],
   "source": [
    "len_6 = [i for i in info_split if len(i)==6]\n",
    "len_6[0]"
   ]
  },
  {
   "cell_type": "code",
   "execution_count": 50,
   "metadata": {},
   "outputs": [
    {
     "data": {
      "text/plain": [
       "['Special',\n",
       " 'Promo',\n",
       " 'BISKUIT BAYI',\n",
       " 'MILNA BABY BISCUIT BRS MERAH 6+ 130G',\n",
       " 'RP 17.190',\n",
       " 'RP 17.190']"
      ]
     },
     "execution_count": 50,
     "metadata": {},
     "output_type": "execute_result"
    }
   ],
   "source": [
    "len_6[0].pop(-1)\n",
    "len_6[0].append(len_6[0][-1])\n",
    "len_6[0]"
   ]
  },
  {
   "cell_type": "code",
   "execution_count": 47,
   "metadata": {},
   "outputs": [
    {
     "data": {
      "text/plain": [
       "['AKSESORIS BAYI',\n",
       " 'PIGEON PP WIDE NECK 160ML W/ P-TYPE SILICONE NIPPLE',\n",
       " 'RP 133.900',\n",
       " 'ADD TO CART']"
      ]
     },
     "execution_count": 47,
     "metadata": {},
     "output_type": "execute_result"
    }
   ],
   "source": [
    "len_4 = [i for i in info_split if len(i)==4]\n",
    "len_4[0]"
   ]
  },
  {
   "cell_type": "code",
   "execution_count": 49,
   "metadata": {},
   "outputs": [
    {
     "data": {
      "text/plain": [
       "['AKSESORIS BAYI',\n",
       " 'PIGEON PP WIDE NECK 160ML W/ P-TYPE SILICONE NIPPLE',\n",
       " 'RP 133.900']"
      ]
     },
     "execution_count": 49,
     "metadata": {},
     "output_type": "execute_result"
    }
   ],
   "source": [
    "len_4[0].pop(-1)\n",
    "len_4[0]"
   ]
  },
  {
   "cell_type": "markdown",
   "metadata": {},
   "source": [
    "showing my thought process because I didn't do so above:\n",
    " - find the types of records I scraped by length\n",
    " - decide on the data to cut, decide on data to keep and pad with null values\n",
    " - for this case remove add to cart, pad the special discount and stuff\n",
    " - for ease just add category value to end of list and reorder columns when dataframe is made"
   ]
  },
  {
   "cell_type": "code",
   "execution_count": 57,
   "metadata": {},
   "outputs": [],
   "source": [
    "processed_info = []\n",
    "nothing_special = [\"NO DISCOUNT\",\"NO PROMOTION\"]"
   ]
  },
  {
   "cell_type": "code",
   "execution_count": 58,
   "metadata": {},
   "outputs": [],
   "source": [
    "for product in info_split:\n",
    "    if len(product) == 7:\n",
    "        product.pop(-1)\n",
    "        processed_info.append(product)\n",
    "    elif len(product) == 6:\n",
    "        product.pop(-1)\n",
    "        product.append(product[-1])\n",
    "        processed_info.append(product)\n",
    "    elif len(product) == 4:\n",
    "        product.pop(-1)\n",
    "        product.append(product[-1])\n",
    "        joined = nothing_special + product\n",
    "        processed_info.append(joined)"
   ]
  },
  {
   "cell_type": "code",
   "execution_count": 61,
   "metadata": {},
   "outputs": [],
   "source": [
    "for product in processed_info:\n",
    "    try:\n",
    "        product.append(hypermart_tkb_categories[product[2].lower()])\n",
    "    except:\n",
    "        product.append(product[2])"
   ]
  },
  {
   "cell_type": "code",
   "execution_count": 64,
   "metadata": {},
   "outputs": [],
   "source": [
    "hypermart_tkb_df = pd.DataFrame.from_records(processed_info)"
   ]
  },
  {
   "cell_type": "code",
   "execution_count": 65,
   "metadata": {},
   "outputs": [],
   "source": [
    "hypermart_tkb_df.to_excel(\"hypermart_tkb_products.xlsx\",index=False)"
   ]
  },
  {
   "cell_type": "markdown",
   "metadata": {},
   "source": [
    "I think I left out some data cleaning stuff because the language is foreign so I'll do the messier stuff through excel"
   ]
  },
  {
   "cell_type": "markdown",
   "metadata": {},
   "source": [
    "I know you can translate in python with the google translate api but I just did it on excel idk I just wanted to see all of the data instead of seeing snippets on python. I did find that I messed up some of the data cleaning but it was only 2-3 cases and easily fixed."
   ]
  },
  {
   "cell_type": "markdown",
   "metadata": {},
   "source": [
    "# DANAWA"
   ]
  },
  {
   "cell_type": "code",
   "execution_count": 5,
   "metadata": {},
   "outputs": [],
   "source": [
    "driver = webdriver.Chrome('chromedriver.exe')"
   ]
  },
  {
   "cell_type": "code",
   "execution_count": 4,
   "metadata": {},
   "outputs": [],
   "source": [
    "danawa_url = \"https://danawa.com\""
   ]
  },
  {
   "cell_type": "code",
   "execution_count": 5,
   "metadata": {},
   "outputs": [],
   "source": [
    "driver.get(danawa_url)"
   ]
  },
  {
   "cell_type": "code",
   "execution_count": 13,
   "metadata": {},
   "outputs": [],
   "source": [
    "#html = driver.page_source\n",
    "#soup = BeautifulSoup(html, 'html.parser')"
   ]
  },
  {
   "cell_type": "code",
   "execution_count": 65,
   "metadata": {},
   "outputs": [],
   "source": [
    "from selenium.webdriver import ActionChains\n",
    "from selenium.webdriver.support.ui import Select"
   ]
  },
  {
   "cell_type": "markdown",
   "metadata": {},
   "source": [
    "### getting subcat links"
   ]
  },
  {
   "attachments": {
    "0964a41b-4f26-4be9-95cb-808f7d7d5cea.png": {
     "image/png": "[encoded data removed]"
    }
   },
   "cell_type": "markdown",
   "metadata": {},
   "source": [
    "![image.png](attachment:0964a41b-4f26-4be9-95cb-808f7d7d5cea.png)"
   ]
  },
  {
   "cell_type": "markdown",
   "metadata": {},
   "source": [
    "I need to get div with class called \"category_unit_wrap\", then the h3 under it with strong property as sub category name, then get the link and name inside the a tag "
   ]
  },
  {
   "cell_type": "code",
   "execution_count": 22,
   "metadata": {},
   "outputs": [],
   "source": [
    "actions = ActionChains(driver)"
   ]
  },
  {
   "cell_type": "code",
   "execution_count": 43,
   "metadata": {},
   "outputs": [],
   "source": [
    "all_cat_btn = driver.find_element_by_css_selector('a.btn_cate_all')\n",
    "all_cat_btn.click()\n",
    "time.sleep(1)\n",
    "dnw_tkb_btn = driver.find_element_by_css_selector('a.nav_menu08')\n",
    "dnw_tkb_btn.click()"
   ]
  },
  {
   "cell_type": "code",
   "execution_count": 48,
   "metadata": {},
   "outputs": [],
   "source": [
    "links = driver.find_elements_by_xpath(\"//a[@href]\")"
   ]
  },
  {
   "cell_type": "code",
   "execution_count": 49,
   "metadata": {},
   "outputs": [],
   "source": [
    "tkb_links = {}"
   ]
  },
  {
   "cell_type": "code",
   "execution_count": 50,
   "metadata": {},
   "outputs": [
    {
     "ename": "StaleElementReferenceException",
     "evalue": "Message: stale element reference: element is not attached to the page document\n  (Session info: chrome=87.0.4280.141)\n",
     "output_type": "error",
     "traceback": [
      "\u001b[1;31m---------------------------------------------------------------------------\u001b[0m",
      "\u001b[1;31mStaleElementReferenceException\u001b[0m            Traceback (most recent call last)",
      "\u001b[1;32m<ipython-input-50-0d4a48374551>\u001b[0m in \u001b[0;36m<module>\u001b[1;34m\u001b[0m\n\u001b[0;32m      1\u001b[0m \u001b[1;32mfor\u001b[0m \u001b[0mx\u001b[0m \u001b[1;32min\u001b[0m \u001b[0mlinks\u001b[0m\u001b[1;33m:\u001b[0m\u001b[1;33m\u001b[0m\u001b[1;33m\u001b[0m\u001b[0m\n\u001b[1;32m----> 2\u001b[1;33m     \u001b[0mtkb_links\u001b[0m\u001b[1;33m[\u001b[0m\u001b[0mx\u001b[0m\u001b[1;33m.\u001b[0m\u001b[0mtext\u001b[0m\u001b[1;33m]\u001b[0m \u001b[1;33m=\u001b[0m \u001b[0mx\u001b[0m\u001b[1;33m.\u001b[0m\u001b[0mget_attribute\u001b[0m\u001b[1;33m(\u001b[0m\u001b[1;34m\"href\"\u001b[0m\u001b[1;33m)\u001b[0m\u001b[1;33m\u001b[0m\u001b[1;33m\u001b[0m\u001b[0m\n\u001b[0m",
      "\u001b[1;32mC:\\anaconda\\lib\\site-packages\\selenium\\webdriver\\remote\\webelement.py\u001b[0m in \u001b[0;36mget_attribute\u001b[1;34m(self, name)\u001b[0m\n\u001b[0;32m    137\u001b[0m         \u001b[0mattributeValue\u001b[0m \u001b[1;33m=\u001b[0m \u001b[1;34m''\u001b[0m\u001b[1;33m\u001b[0m\u001b[1;33m\u001b[0m\u001b[0m\n\u001b[0;32m    138\u001b[0m         \u001b[1;32mif\u001b[0m \u001b[0mself\u001b[0m\u001b[1;33m.\u001b[0m\u001b[0m_w3c\u001b[0m\u001b[1;33m:\u001b[0m\u001b[1;33m\u001b[0m\u001b[1;33m\u001b[0m\u001b[0m\n\u001b[1;32m--> 139\u001b[1;33m             attributeValue = self.parent.execute_script(\n\u001b[0m\u001b[0;32m    140\u001b[0m                 \u001b[1;34m\"return (%s).apply(null, arguments);\"\u001b[0m \u001b[1;33m%\u001b[0m \u001b[0mgetAttribute_js\u001b[0m\u001b[1;33m,\u001b[0m\u001b[1;33m\u001b[0m\u001b[1;33m\u001b[0m\u001b[0m\n\u001b[0;32m    141\u001b[0m                 self, name)\n",
      "\u001b[1;32mC:\\anaconda\\lib\\site-packages\\selenium\\webdriver\\remote\\webdriver.py\u001b[0m in \u001b[0;36mexecute_script\u001b[1;34m(self, script, *args)\u001b[0m\n\u001b[0;32m    632\u001b[0m             \u001b[0mcommand\u001b[0m \u001b[1;33m=\u001b[0m \u001b[0mCommand\u001b[0m\u001b[1;33m.\u001b[0m\u001b[0mEXECUTE_SCRIPT\u001b[0m\u001b[1;33m\u001b[0m\u001b[1;33m\u001b[0m\u001b[0m\n\u001b[0;32m    633\u001b[0m \u001b[1;33m\u001b[0m\u001b[0m\n\u001b[1;32m--> 634\u001b[1;33m         return self.execute(command, {\n\u001b[0m\u001b[0;32m    635\u001b[0m             \u001b[1;34m'script'\u001b[0m\u001b[1;33m:\u001b[0m \u001b[0mscript\u001b[0m\u001b[1;33m,\u001b[0m\u001b[1;33m\u001b[0m\u001b[1;33m\u001b[0m\u001b[0m\n\u001b[0;32m    636\u001b[0m             'args': converted_args})['value']\n",
      "\u001b[1;32mC:\\anaconda\\lib\\site-packages\\selenium\\webdriver\\remote\\webdriver.py\u001b[0m in \u001b[0;36mexecute\u001b[1;34m(self, driver_command, params)\u001b[0m\n\u001b[0;32m    319\u001b[0m         \u001b[0mresponse\u001b[0m \u001b[1;33m=\u001b[0m \u001b[0mself\u001b[0m\u001b[1;33m.\u001b[0m\u001b[0mcommand_executor\u001b[0m\u001b[1;33m.\u001b[0m\u001b[0mexecute\u001b[0m\u001b[1;33m(\u001b[0m\u001b[0mdriver_command\u001b[0m\u001b[1;33m,\u001b[0m \u001b[0mparams\u001b[0m\u001b[1;33m)\u001b[0m\u001b[1;33m\u001b[0m\u001b[1;33m\u001b[0m\u001b[0m\n\u001b[0;32m    320\u001b[0m         \u001b[1;32mif\u001b[0m \u001b[0mresponse\u001b[0m\u001b[1;33m:\u001b[0m\u001b[1;33m\u001b[0m\u001b[1;33m\u001b[0m\u001b[0m\n\u001b[1;32m--> 321\u001b[1;33m             \u001b[0mself\u001b[0m\u001b[1;33m.\u001b[0m\u001b[0merror_handler\u001b[0m\u001b[1;33m.\u001b[0m\u001b[0mcheck_response\u001b[0m\u001b[1;33m(\u001b[0m\u001b[0mresponse\u001b[0m\u001b[1;33m)\u001b[0m\u001b[1;33m\u001b[0m\u001b[1;33m\u001b[0m\u001b[0m\n\u001b[0m\u001b[0;32m    322\u001b[0m             response['value'] = self._unwrap_value(\n\u001b[0;32m    323\u001b[0m                 response.get('value', None))\n",
      "\u001b[1;32mC:\\anaconda\\lib\\site-packages\\selenium\\webdriver\\remote\\errorhandler.py\u001b[0m in \u001b[0;36mcheck_response\u001b[1;34m(self, response)\u001b[0m\n\u001b[0;32m    240\u001b[0m                 \u001b[0malert_text\u001b[0m \u001b[1;33m=\u001b[0m \u001b[0mvalue\u001b[0m\u001b[1;33m[\u001b[0m\u001b[1;34m'alert'\u001b[0m\u001b[1;33m]\u001b[0m\u001b[1;33m.\u001b[0m\u001b[0mget\u001b[0m\u001b[1;33m(\u001b[0m\u001b[1;34m'text'\u001b[0m\u001b[1;33m)\u001b[0m\u001b[1;33m\u001b[0m\u001b[1;33m\u001b[0m\u001b[0m\n\u001b[0;32m    241\u001b[0m             \u001b[1;32mraise\u001b[0m \u001b[0mexception_class\u001b[0m\u001b[1;33m(\u001b[0m\u001b[0mmessage\u001b[0m\u001b[1;33m,\u001b[0m \u001b[0mscreen\u001b[0m\u001b[1;33m,\u001b[0m \u001b[0mstacktrace\u001b[0m\u001b[1;33m,\u001b[0m \u001b[0malert_text\u001b[0m\u001b[1;33m)\u001b[0m\u001b[1;33m\u001b[0m\u001b[1;33m\u001b[0m\u001b[0m\n\u001b[1;32m--> 242\u001b[1;33m         \u001b[1;32mraise\u001b[0m \u001b[0mexception_class\u001b[0m\u001b[1;33m(\u001b[0m\u001b[0mmessage\u001b[0m\u001b[1;33m,\u001b[0m \u001b[0mscreen\u001b[0m\u001b[1;33m,\u001b[0m \u001b[0mstacktrace\u001b[0m\u001b[1;33m)\u001b[0m\u001b[1;33m\u001b[0m\u001b[1;33m\u001b[0m\u001b[0m\n\u001b[0m\u001b[0;32m    243\u001b[0m \u001b[1;33m\u001b[0m\u001b[0m\n\u001b[0;32m    244\u001b[0m     \u001b[1;32mdef\u001b[0m \u001b[0m_value_or_default\u001b[0m\u001b[1;33m(\u001b[0m\u001b[0mself\u001b[0m\u001b[1;33m,\u001b[0m \u001b[0mobj\u001b[0m\u001b[1;33m,\u001b[0m \u001b[0mkey\u001b[0m\u001b[1;33m,\u001b[0m \u001b[0mdefault\u001b[0m\u001b[1;33m)\u001b[0m\u001b[1;33m:\u001b[0m\u001b[1;33m\u001b[0m\u001b[1;33m\u001b[0m\u001b[0m\n",
      "\u001b[1;31mStaleElementReferenceException\u001b[0m: Message: stale element reference: element is not attached to the page document\n  (Session info: chrome=87.0.4280.141)\n"
     ]
    }
   ],
   "source": [
    "for x in links:\n",
    "    tkb_links[x.text] = x.get_attribute(\"href\")"
   ]
  },
  {
   "cell_type": "markdown",
   "metadata": {},
   "source": [
    "### the hover menu disappeared but I got all the links I wanted so it's good"
   ]
  },
  {
   "cell_type": "code",
   "execution_count": 51,
   "metadata": {},
   "outputs": [
    {
     "data": {
      "text/plain": [
       "{'': 'http://prod.danawa.com/info/?pcode=13084526&cate1=46803&cate2=56854&cate3=56861&cate4=0&relationType=cmRecommend',\n",
       " '배너닫기': 'http://www.danawa.com/#top_banner_close_button',\n",
       " '최근본상품': 'http://www.danawa.com/#',\n",
       " '관심상품': 'http://www.danawa.com/myPage/wishList.php',\n",
       " '로그인': 'https://auth.danawa.com/login?url=http%3A%2F%2Fwww.danawa.com%2F',\n",
       " '메뉴\\n카테고리 전체보기': 'http://www.danawa.com/#sectionExplodeLayer',\n",
       " '자동차': 'http://dpg.danawa.com/news/list?boardSeq=60,61,62,63,64,65,66,67,68,130&site=8',\n",
       " '조립PC': 'http://shop.danawa.com/shopmain/?logger_kw=dnw_gnb_pcmain',\n",
       " 'PC견적': 'http://shop.danawa.com/virtualestimate/?controller=estimateMain&methods=index&marketPlaceSeq=16&logger_kw=dnw_gnb_esti',\n",
       " '중고장터': 'http://shop.danawa.com/shopmain/?controller=main&methods=usedMarket&logger_kw=dnw_gnb_used',\n",
       " '핫딜': 'http://prod.danawa.com/hotdeal/',\n",
       " '여행': 'http://tour.danawa.com/',\n",
       " '쇼핑기획전': 'http://plan.danawa.com/',\n",
       " 'DPG': 'http://dpg.danawa.com/bbs',\n",
       " '이벤트': 'http://event.danawa.com/',\n",
       " '체험단': 'http://event.danawa.com/experience/',\n",
       " '더보기': 'http://www.danawa.com/#topMenu_moreButton',\n",
       " '카테고리 닫기': 'http://www.danawa.com/#',\n",
       " '가전/TV': 'http://www.danawa.com/#categoryHoverLayer10',\n",
       " '컴퓨터/노트북/조립PC': 'http://www.danawa.com/#categoryHoverLayer11',\n",
       " '태블릿/모바일/디카': 'http://www.danawa.com/#categoryHoverLayer12',\n",
       " '아웃도어/스포츠/골프': 'http://www.danawa.com/#categoryHoverLayer13',\n",
       " '자동차/용품/공구': 'http://www.danawa.com/#',\n",
       " '가구/조명': 'http://www.danawa.com/#categoryHoverLayer15',\n",
       " '식품/유아/완구\\n카테고리로 이동': 'http://www.danawa.com/#',\n",
       " '생활/주방/건강': 'http://www.danawa.com/#categoryHoverLayer17',\n",
       " '패션/잡화/화장품': 'http://www.danawa.com/#categoryHoverLayer18',\n",
       " '사무/취미/반려동물': 'http://www.danawa.com/#categoryHoverLayer19',\n",
       " '여행/항공/호텔': 'http://www.danawa.com/#categoryHoverLayer20',\n",
       " '스팸/참치/오일세트인기메뉴': 'http://prod.danawa.com/list/?cate=16239394&logger_kw=ca_main_more',\n",
       " '축산/농산/수산물': 'http://prod.danawa.com/list/?cate=16239387&logger_kw=ca_main_more',\n",
       " '건강식품 세트신규메뉴': 'http://prod.danawa.com/list/?cate=16239399&logger_kw=ca_main_more',\n",
       " '홍삼 세트': 'http://prod.danawa.com/list/?cate=16239406&logger_kw=ca_main_more',\n",
       " '한과/떡/전통주': 'http://prod.danawa.com/list/?cate=16239413&logger_kw=ca_main_more',\n",
       " '커피/차 세트': 'http://prod.danawa.com/list/?cate=16239417&logger_kw=ca_main_more',\n",
       " '아동 다운 자켓': 'http://prod.danawa.com/list/?cate=16238732&logger_kw=ca_main_more',\n",
       " '즐거운 홈스쿨': 'http://prod.danawa.com/list/?cate=16238737&logger_kw=ca_main_more',\n",
       " '실내에서도 즐겁게': 'http://prod.danawa.com/list/?cate=16238755&logger_kw=ca_main_more',\n",
       " '홍삼/인삼/녹용인기메뉴': 'http://prod.danawa.com/list/?cate=1622276&logger_kw=ca_main_more',\n",
       " '영양제신규메뉴': 'http://prod.danawa.com/list/?cate=1622280&logger_kw=ca_main_more',\n",
       " '식약처인증 영양제': 'http://prod.danawa.com/list/?cate=16225244&logger_kw=ca_main_more',\n",
       " '헬스/다이어트식품': 'http://prod.danawa.com/list/?cate=1622286&logger_kw=ca_main_more',\n",
       " '비타민': 'http://prod.danawa.com/list/?cate=1622278&logger_kw=ca_main_more',\n",
       " '이너뷰티푸드': 'http://prod.danawa.com/list/?cate=16225855&logger_kw=ca_main_more',\n",
       " '건강즙': 'http://prod.danawa.com/list/?cate=16216017&logger_kw=ca_main_more',\n",
       " '건강환/분말/생식': 'http://prod.danawa.com/list/?cate=16216052&logger_kw=ca_main_more',\n",
       " '환자식/건강음료': 'http://prod.danawa.com/list/?cate=16222599&logger_kw=ca_main_more',\n",
       " '꿀/프로폴리스': 'http://prod.danawa.com/list/?cate=16216030&logger_kw=ca_main_more',\n",
       " '어린이 건강식품': 'http://prod.danawa.com/list/?cate=16217656&logger_kw=ca_main_more',\n",
       " '즉석밥/햇반': 'http://prod.danawa.com/list/?cate=16237074&logger_kw=ca_main_more',\n",
       " '컵밥/볶음밥/죽인기메뉴': 'http://prod.danawa.com/list/?cate=16228132&logger_kw=ca_main_more',\n",
       " '즉석국/찌개': 'http://prod.danawa.com/list/?cate=16228131&logger_kw=ca_main_more',\n",
       " '카레/짜장/수프': 'http://prod.danawa.com/list/?cate=16228130&logger_kw=ca_main_more',\n",
       " '만두/떡볶이/순대신규메뉴': 'http://prod.danawa.com/list/?cate=16228142&logger_kw=ca_main_more',\n",
       " '치킨/튀김/전': 'http://prod.danawa.com/list/?cate=16228146&logger_kw=ca_main_more',\n",
       " '피자/핫도그/함박': 'http://prod.danawa.com/list/?cate=16228144&logger_kw=ca_main_more',\n",
       " '밀키트': 'http://prod.danawa.com/list/?cate=16231179&logger_kw=ca_main_more',\n",
       " '햄/소시지/어묵': 'http://prod.danawa.com/list/?cate=16228145&logger_kw=ca_main_more',\n",
       " '봉지라면': 'http://prod.danawa.com/list/?cate=16236946&logger_kw=ca_main_more',\n",
       " '컵라면': 'http://prod.danawa.com/list/?cate=16237820&logger_kw=ca_main_more',\n",
       " '즉석면요리': 'http://prod.danawa.com/list/?cate=16237821&logger_kw=ca_main_more',\n",
       " '소면/당면/면류': 'http://prod.danawa.com/list/?cate=16237822&logger_kw=ca_main_more',\n",
       " '박스 라면/면류인기메뉴': 'http://prod.danawa.com/list/?cate=16237739&logger_kw=ca_main_more',\n",
       " '참치/스팸/통조림': 'http://prod.danawa.com/list/?cate=16236949&logger_kw=ca_main_more',\n",
       " '대용량 통조림신규메뉴': 'http://prod.danawa.com/list/?cate=16231180&logger_kw=ca_main_more',\n",
       " '가공식품 선물세트': 'http://prod.danawa.com/list/?cate=16236950&logger_kw=ca_main_more',\n",
       " '쌀/현미인기메뉴': 'http://prod.danawa.com/list/?cate=16216063&logger_kw=ca_main_more',\n",
       " '견과/잡곡': 'http://prod.danawa.com/list/?cate=16224726&logger_kw=ca_main_more',\n",
       " '과일/채소/버섯신규메뉴': 'http://prod.danawa.com/list/?cate=16216056&logger_kw=ca_main_more',\n",
       " '김치': 'http://prod.danawa.com/list/?cate=1622479&logger_kw=ca_main_more',\n",
       " '건어물/김/해조류': 'http://prod.danawa.com/list/?cate=1622533&logger_kw=ca_main_more',\n",
       " '해산물/생선/젓갈': 'http://prod.danawa.com/list/?cate=1622527&logger_kw=ca_main_more',\n",
       " '닭/오리고기/계란': 'http://prod.danawa.com/list/?cate=1622520&logger_kw=ca_main_more',\n",
       " '소/돼지고기/양고기': 'http://prod.danawa.com/list/?cate=16216086&logger_kw=ca_main_more',\n",
       " '반찬': 'http://prod.danawa.com/list/?cate=16216109&logger_kw=ca_main_more',\n",
       " '농축수 선물세트': 'http://prod.danawa.com/list/?cate=1622550&logger_kw=ca_main_more',\n",
       " '대용량 조미료/장류': 'http://prod.danawa.com/list/?cate=16222806&logger_kw=ca_main_more',\n",
       " '조미료/물엿/식초인기메뉴': 'http://prod.danawa.com/list/?cate=16222254&logger_kw=ca_main_more',\n",
       " '설탕/소금/후추': 'http://prod.danawa.com/list/?cate=16228264&logger_kw=ca_main_more',\n",
       " '고추장/된장/간장류': 'http://prod.danawa.com/list/?cate=16222220&logger_kw=ca_main_more',\n",
       " '소스/드레싱/육수': 'http://prod.danawa.com/list/?cate=16222244&logger_kw=ca_main_more',\n",
       " '식용유/참기름': 'http://prod.danawa.com/list/?cate=16222230&logger_kw=ca_main_more',\n",
       " '시럽/색소/향료신규메뉴': 'http://prod.danawa.com/list/?cate=16222253&logger_kw=ca_main_more',\n",
       " '잼류/스프레드': 'http://prod.danawa.com/list/?cate=16226015&logger_kw=ca_main_more',\n",
       " '밀가루/곡물가루': 'http://prod.danawa.com/list/?cate=16222264&logger_kw=ca_main_more',\n",
       " '오일/양념 선물세트': 'http://prod.danawa.com/list/?cate=16226068&logger_kw=ca_main_more',\n",
       " '대용량 커피/차': 'http://prod.danawa.com/list/?cate=16219805&logger_kw=ca_main_more',\n",
       " '커피인기메뉴': 'http://prod.danawa.com/list/?cate=1623162&logger_kw=ca_main_more',\n",
       " '커피원두': 'http://prod.danawa.com/list/?cate=16216186&logger_kw=ca_main_more',\n",
       " '커피/차 음료': 'http://prod.danawa.com/list/?cate=16216188&logger_kw=ca_main_more',\n",
       " '핫초코/아이스티신규메뉴': 'http://prod.danawa.com/list/?cate=16218598&logger_kw=ca_main_more',\n",
       " '곡물차/미숫가루': 'http://prod.danawa.com/list/?cate=16221876&logger_kw=ca_main_more',\n",
       " '과실차/유자차': 'http://prod.danawa.com/list/?cate=16238842&logger_kw=ca_main_more',\n",
       " '건강차/마차/생강차': 'http://prod.danawa.com/list/?cate=16221887&logger_kw=ca_main_more',\n",
       " '녹차/홍차/보이차': 'http://prod.danawa.com/list/?cate=16221836&logger_kw=ca_main_more',\n",
       " '허브차/꽃차': 'http://prod.danawa.com/list/?cate=16221841&logger_kw=ca_main_more',\n",
       " '커피/차 선물세트': 'http://prod.danawa.com/list/?cate=16216191&logger_kw=ca_main_more',\n",
       " '생수': 'http://prod.danawa.com/list/?cate=1623153&logger_kw=ca_main_more',\n",
       " '콜라/사이다/탄산신규메뉴': 'http://prod.danawa.com/list/?cate=1623180&logger_kw=ca_main_more',\n",
       " '비타민/이온음료': 'http://prod.danawa.com/list/?cate=16217927&logger_kw=ca_main_more',\n",
       " '보리차/차음료': 'http://prod.danawa.com/list/?cate=16217959&logger_kw=ca_main_more',\n",
       " '탄산수': 'http://prod.danawa.com/list/?cate=16217823&logger_kw=ca_main_more',\n",
       " '두유/아몬드음료인기메뉴': 'http://prod.danawa.com/list/?cate=16216679&logger_kw=ca_main_more',\n",
       " '우유/요구르트': 'http://prod.danawa.com/list/?cate=1623155&logger_kw=ca_main_more',\n",
       " '아이스티/식초음료': 'http://prod.danawa.com/list/?cate=16222395&logger_kw=ca_main_more',\n",
       " '과채주스/음료': 'http://prod.danawa.com/list/?cate=1623158&logger_kw=ca_main_more',\n",
       " '어린이음료': 'http://prod.danawa.com/list/?cate=16222698&logger_kw=ca_main_more',\n",
       " '전통주': 'http://prod.danawa.com/list/?cate=16224475&logger_kw=ca_main_more',\n",
       " '과자/시리얼인기메뉴': 'http://prod.danawa.com/list/?cate=16228134&logger_kw=ca_main_more',\n",
       " '대용량 과자': 'http://prod.danawa.com/list/?cate=16226552&logger_kw=ca_main_more',\n",
       " '대용량 아이스크림': 'http://prod.danawa.com/list/?cate=16231182&logger_kw=ca_main_more',\n",
       " '초콜릿/젤리/사탕': 'http://prod.danawa.com/list/?cate=16228138&logger_kw=ca_main_more',\n",
       " '빵/떡/한과신규메뉴': 'http://prod.danawa.com/list/?cate=16228137&logger_kw=ca_main_more',\n",
       " '치즈/버터/휘핑크림': 'http://prod.danawa.com/list/?cate=16228129&logger_kw=ca_main_more',\n",
       " '아이스크림/팥빙수': 'http://prod.danawa.com/list/?cate=16231183&logger_kw=ca_main_more',\n",
       " '원물간식/소시지': 'http://prod.danawa.com/list/?cate=16228642&logger_kw=ca_main_more',\n",
       " '국내분유': 'http://prod.danawa.com/list/?cate=16281&logger_kw=ca_main_more',\n",
       " '수입분유': 'http://prod.danawa.com/list/?cate=16220040&logger_kw=ca_main_more',\n",
       " '산양/특수분유': 'http://prod.danawa.com/list/?cate=16238329&logger_kw=ca_main_more',\n",
       " '국내기저귀': 'http://prod.danawa.com/list/?cate=16237743&logger_kw=ca_main_more',\n",
       " '수입기저귀': 'http://prod.danawa.com/list/?cate=16239238&logger_kw=ca_main_more',\n",
       " '기저귀용품': 'http://prod.danawa.com/list/?cate=16239253&logger_kw=ca_main_more',\n",
       " '이유식': 'http://prod.danawa.com/list/?cate=1621080&logger_kw=ca_main_more',\n",
       " '물티슈인기메뉴': 'http://prod.danawa.com/list/?cate=16282&logger_kw=ca_main_more',\n",
       " '젖병/젖꼭지/소독기': 'http://prod.danawa.com/list/?cate=16239222&logger_kw=ca_main_more',\n",
       " '휴대용유모차': 'http://prod.danawa.com/list/?cate=16238400&logger_kw=ca_main_more',\n",
       " '절충형유모차': 'http://prod.danawa.com/list/?cate=16238401&logger_kw=ca_main_more',\n",
       " '디럭스유모차': 'http://prod.danawa.com/list/?cate=16239185&logger_kw=ca_main_more',\n",
       " '쌍둥이/삼륜유모차신규메뉴': 'http://prod.danawa.com/list/?cate=162147&logger_kw=ca_main_more',\n",
       " '유모차+카시트 세트': 'http://prod.danawa.com/list/?cate=16239192&logger_kw=ca_main_more',\n",
       " '신생아카시트': 'http://prod.danawa.com/list/?cate=16239193&logger_kw=ca_main_more',\n",
       " '영유아용카시트인기메뉴': 'http://prod.danawa.com/list/?cate=162148&logger_kw=ca_main_more',\n",
       " '주니어용카시트': 'http://prod.danawa.com/list/?cate=16238411&logger_kw=ca_main_more',\n",
       " '유모차/카시트소품': 'http://prod.danawa.com/list/?cate=16221375&logger_kw=ca_main_more',\n",
       " '아기띠/힙시트': 'http://prod.danawa.com/list/?cate=162149&logger_kw=ca_main_more',\n",
       " '가방/미아방지용품': 'http://prod.danawa.com/list/?cate=16236671&logger_kw=ca_main_more',\n",
       " '유아웨건': 'http://prod.danawa.com/list/?cate=16224283&logger_kw=ca_main_more',\n",
       " '놀이방매트/안전': 'http://prod.danawa.com/list/?cate=16238392&logger_kw=ca_main_more',\n",
       " '젖병/젖꼭지': 'http://prod.danawa.com/list/?cate=16238393&logger_kw=ca_main_more',\n",
       " '젖병소독기/유축기': 'http://prod.danawa.com/list/?cate=162187&logger_kw=ca_main_more',\n",
       " '이유식용품': 'http://prod.danawa.com/list/?cate=16233925&logger_kw=ca_main_more',\n",
       " '수유용품': 'http://prod.danawa.com/list/?cate=162188&logger_kw=ca_main_more',\n",
       " '유아욕조/목욕용품': 'http://prod.danawa.com/list/?cate=16238394&logger_kw=ca_main_more',\n",
       " '유아변기/위생용품': 'http://prod.danawa.com/list/?cate=16238396&logger_kw=ca_main_more',\n",
       " '출산/신생아용품': 'http://prod.danawa.com/list/?cate=16238398&logger_kw=ca_main_more',\n",
       " '유아가구': 'http://prod.danawa.com/list/?cate=16238151&logger_kw=ca_main_more',\n",
       " '캐릭터별완구': 'http://prod.danawa.com/list/?cate=16238419&logger_kw=ca_main_more',\n",
       " '레고/블록': 'http://prod.danawa.com/list/?cate=16238366&logger_kw=ca_main_more',\n",
       " '로봇/자동차/팽이인기메뉴': 'http://prod.danawa.com/list/?cate=162178&logger_kw=ca_main_more',\n",
       " '킥보드/승용완구신규메뉴': 'http://prod.danawa.com/list/?cate=162179&logger_kw=ca_main_more',\n",
       " '역할놀이/소꿉놀이': 'http://prod.danawa.com/list/?cate=16238333&logger_kw=ca_main_more',\n",
       " '너프건/스포츠완구': 'http://prod.danawa.com/list/?cate=16238342&logger_kw=ca_main_more',\n",
       " '실내대형완구': 'http://prod.danawa.com/list/?cate=16238348&logger_kw=ca_main_more',\n",
       " '학습/과학완구': 'http://prod.danawa.com/list/?cate=162181&logger_kw=ca_main_more',\n",
       " '음악/미술완구': 'http://prod.danawa.com/list/?cate=16238357&logger_kw=ca_main_more',\n",
       " '신생아/영유아완구': 'http://prod.danawa.com/list/?cate=16238376&logger_kw=ca_main_more',\n",
       " '인형': 'http://prod.danawa.com/list/?cate=16238377&logger_kw=ca_main_more',\n",
       " '코딩완구': 'http://prod.danawa.com/list/?cate=16233793&logger_kw=ca_main_more',\n",
       " '책가방/신발주머니인기메뉴': 'http://prod.danawa.com/list/?cate=162258&logger_kw=ca_main_more',\n",
       " '아동 아우터': 'http://prod.danawa.com/list/?cate=162251&logger_kw=ca_main_more',\n",
       " '아동 상의': 'http://prod.danawa.com/list/?cate=16230608&logger_kw=ca_main_more',\n",
       " '아동 하의': 'http://prod.danawa.com/list/?cate=16238432&logger_kw=ca_main_more',\n",
       " '원피스/세트/한복': 'http://prod.danawa.com/list/?cate=16238433&logger_kw=ca_main_more',\n",
       " '아동잡화/시즌의류': 'http://prod.danawa.com/list/?cate=162259&logger_kw=ca_main_more',\n",
       " '아동 신발신규메뉴': 'http://prod.danawa.com/list/?cate=162257&logger_kw=ca_main_more',\n",
       " '신생아의류': 'http://prod.danawa.com/list/?cate=162250&logger_kw=ca_main_more',\n",
       " '쥬얼리/돌반지': 'http://prod.danawa.com/list/?cate=16223370&logger_kw=ca_main_more',\n",
       " '유아동도서/전집': 'http://prod.danawa.com/list/?cate=16238332&logger_kw=ca_main_more',\n",
       " '자동차 /용품 /공구': 'http://www.danawa.com/#categoryHoverLayer14',\n",
       " '식품/유아/완구': 'http://www.danawa.com/#categoryHoverLayer16',\n",
       " '뉴스룸': 'http://news.danawa.com/',\n",
       " '주요이슈': 'http://news.danawa.com/list?boardSeq=62,64,65,66,67,130,293,294,245',\n",
       " 'IT': 'http://dpg.danawa.com/news/list?boardSeq=60,61,62,63,64,65,66,67,68,130&site=4',\n",
       " 'HitBrand': 'http://dpg.danawa.com/news/list?condition=title&keyword=%ED%9E%88%ED%8A%B8%EB%B8%8C%EB%9E%9C%EB%93%9C',\n",
       " '게임월드': 'http://dpg.danawa.com/news/list?boardSeq=60,61,62,63,64,65,66,67,68,130&site=6',\n",
       " 'ㄷㅂㄷ': 'http://dpg.danawa.com/news/movieMain',\n",
       " '대중의 요구를 충실히 반영한 케이스': 'http://dpg.danawa.com/bbs/newsRoomBridge?newsRoomItemSeq=1616&redirectUrl=http%3A%2F%2Fdpg.danawa.com%2Fnews%2Fview%3FboardSeq%3D63%26listSeq%3D4542344',\n",
       " 'SSD 표준으로 자리매김한 마이크론': 'http://dpg.danawa.com/bbs/newsRoomBridge?newsRoomItemSeq=1615&redirectUrl=http%3A%2F%2Fdpg.danawa.com%2Fnews%2Fview%3FboardSeq%3D63%26listSeq%3D4547743',\n",
       " '고사양PC의 심장이 되어준 마닉': 'http://dpg.danawa.com/bbs/newsRoomBridge?newsRoomItemSeq=1617&redirectUrl=http%3A%2F%2Fdpg.danawa.com%2Fnews%2Fview%3FboardSeq%3D63%26listSeq%3D4547558',\n",
       " 'HDD는 믿고 쓰는 Seagate': 'http://dpg.danawa.com/bbs/newsRoomBridge?newsRoomItemSeq=1614&redirectUrl=http%3A%2F%2Fdpg.danawa.com%2Fnews%2Fview%3FboardSeq%3D63%26listSeq%3D4552241',\n",
       " '쇼핑클립': 'http://prod.danawa.com/shoppingClip/',\n",
       " '주식/재택근무/인강 마스터 IT템': 'http://www.danawa.com/#',\n",
       " '다시 찾아온 미세먼지 공기청정기는 필수!!': 'http://www.danawa.com/#',\n",
       " '차세대 콘솔용 TV 선택팁!': 'http://www.danawa.com/#',\n",
       " '집에서 맨~날 뭐... 하냐고?!': 'http://www.danawa.com/#',\n",
       " '홈트레이닝 운동기구 선택 방법': 'http://www.danawa.com/#',\n",
       " '입소문쇼핑': 'http://www.danawa.com/#',\n",
       " '새해 나를 위한 패션/몸단장 점검!': 'http://www.danawa.com/#',\n",
       " '극강의 성능! RTX 30시리즈 PC': 'http://www.danawa.com/#',\n",
       " \"오랄비 신년 세일 '설'레는 특가!\": 'http://www.danawa.com/#',\n",
       " '워라밸 높이는 홈오피스 꾸미기!': 'http://www.danawa.com/#',\n",
       " '한파 극복! 안전한 겨울나기': 'http://www.danawa.com/#',\n",
       " '선물 시작은 홍삼으로!\\n정관장 에브리타임 30포\\n32% 47,310원': 'http://prod.danawa.com/info/?pcode=6600124&cate1=46803&cate2=46817&cate3=46824&cate4=0&relationType=cmRecommend',\n",
       " '[NEW] 슬라이드 뚜껑!\\n락앤락 빨대 물병 350ml\\n12,350원': 'http://prod.danawa.com/info/?pcode=13123970&cate1=1827&cate2=20045&cate3=220388&cate4=0&relationType=cmRecommend',\n",
       " '제설제로 신속하게 제설\\nOCI 염화칼슘 25kg\\n28% 15,290원': 'http://prod.danawa.com/info/?pcode=1700532&cate1=1985&cate2=54516&cate3=59304&cate4=0&relationType=cmRecommend',\n",
       " '가볍고 미니멀한\\n카피어랜드 세단기 특가!\\n53% 43,000원': 'http://prod.danawa.com/info/?pcode=7541362&cate1=22591&cate2=22796&cate3=22824&cate4=0&relationType=cmRecommend',\n",
       " '충북 영동 반건시\\n곶감 선물세트 3kg\\n57,330원': 'http://prod.danawa.com/info/?pcode=13118459&cate1=46803&cate2=46818&cate3=50379&cate4=0&relationType=cmRecommend',\n",
       " '현대 돌침대\\n효도선물로 제격!\\n3% 410,100원': 'http://prod.danawa.com/info/?pcode=12286424&cate1=1826&cate2=11241&cate3=11242&cate4=58871&relationType=cmRecommend'}"
      ]
     },
     "execution_count": 51,
     "metadata": {},
     "output_type": "execute_result"
    }
   ],
   "source": [
    "tkb_links"
   ]
  },
  {
   "cell_type": "code",
   "execution_count": 12,
   "metadata": {},
   "outputs": [],
   "source": [
    "actual_tkb_links = {\n",
    "    '국내분유': 'http://prod.danawa.com/list/?cate=16281&logger_kw=ca_main_more',\n",
    " '수입분유': 'http://prod.danawa.com/list/?cate=16220040&logger_kw=ca_main_more',\n",
    " '산양-특수분유': 'http://prod.danawa.com/list/?cate=16238329&logger_kw=ca_main_more',\n",
    " '국내기저귀': 'http://prod.danawa.com/list/?cate=16237743&logger_kw=ca_main_more',\n",
    " '수입기저귀': 'http://prod.danawa.com/list/?cate=16239238&logger_kw=ca_main_more',\n",
    "  '기저귀용품': 'http://prod.danawa.com/list/?cate=16239253&logger_kw=ca_main_more',\n",
    " '이유식': 'http://prod.danawa.com/list/?cate=1621080&logger_kw=ca_main_more',\n",
    " '물티슈인기메뉴': 'http://prod.danawa.com/list/?cate=16282&logger_kw=ca_main_more',\n",
    " '젖병-젖꼭지-소독기': 'http://prod.danawa.com/list/?cate=16239222&logger_kw=ca_main_more',\n",
    " '휴대용유모차': 'http://prod.danawa.com/list/?cate=16238400&logger_kw=ca_main_more',\n",
    " '절충형유모차': 'http://prod.danawa.com/list/?cate=16238401&logger_kw=ca_main_more',\n",
    " '디럭스유모차': 'http://prod.danawa.com/list/?cate=16239185&logger_kw=ca_main_more',\n",
    " '쌍둥이-삼륜유모차신규메뉴': 'http://prod.danawa.com/list/?cate=162147&logger_kw=ca_main_more',\n",
    " '유모차+카시트 세트': 'http://prod.danawa.com/list/?cate=16239192&logger_kw=ca_main_more',\n",
    " '신생아카시트': 'http://prod.danawa.com/list/?cate=16239193&logger_kw=ca_main_more',\n",
    " '영유아용카시트인기메뉴': 'http://prod.danawa.com/list/?cate=162148&logger_kw=ca_main_more',\n",
    " '주니어용카시트': 'http://prod.danawa.com/list/?cate=16238411&logger_kw=ca_main_more',\n",
    " '유모차-카시트소품': 'http://prod.danawa.com/list/?cate=16221375&logger_kw=ca_main_more',\n",
    " '아기띠-힙시트': 'http://prod.danawa.com/list/?cate=162149&logger_kw=ca_main_more',\n",
    " '가방-미아방지용품': 'http://prod.danawa.com/list/?cate=16236671&logger_kw=ca_main_more',\n",
    " '유아웨건': 'http://prod.danawa.com/list/?cate=16224283&logger_kw=ca_main_more',\n",
    " '놀이방매트-안전': 'http://prod.danawa.com/list/?cate=16238392&logger_kw=ca_main_more',\n",
    " '젖병-젖꼭지': 'http://prod.danawa.com/list/?cate=16238393&logger_kw=ca_main_more',\n",
    " '젖병소독기-유축기': 'http://prod.danawa.com/list/?cate=162187&logger_kw=ca_main_more',\n",
    " '이유식용품': 'http://prod.danawa.com/list/?cate=16233925&logger_kw=ca_main_more',\n",
    " '수유용품': 'http://prod.danawa.com/list/?cate=162188&logger_kw=ca_main_more',\n",
    " '유아욕조-목욕용품': 'http://prod.danawa.com/list/?cate=16238394&logger_kw=ca_main_more',\n",
    " '유아변기-위생용품': 'http://prod.danawa.com/list/?cate=16238396&logger_kw=ca_main_more',\n",
    " '출산-신생아용품': 'http://prod.danawa.com/list/?cate=16238398&logger_kw=ca_main_more',\n",
    " '유아가구': 'http://prod.danawa.com/list/?cate=16238151&logger_kw=ca_main_more',\n",
    " '캐릭터별완구': 'http://prod.danawa.com/list/?cate=16238419&logger_kw=ca_main_more',\n",
    " '레고-블록': 'http://prod.danawa.com/list/?cate=16238366&logger_kw=ca_main_more',\n",
    " '로봇-자동차-팽이인기메뉴': 'http://prod.danawa.com/list/?cate=162178&logger_kw=ca_main_more',\n",
    " '킥보드-승용완구신규메뉴': 'http://prod.danawa.com/list/?cate=162179&logger_kw=ca_main_more',\n",
    " '역할놀이-소꿉놀이': 'http://prod.danawa.com/list/?cate=16238333&logger_kw=ca_main_more',\n",
    " '너프건-스포츠완구': 'http://prod.danawa.com/list/?cate=16238342&logger_kw=ca_main_more',\n",
    " '실내대형완구': 'http://prod.danawa.com/list/?cate=16238348&logger_kw=ca_main_more',\n",
    " '학습-과학완구': 'http://prod.danawa.com/list/?cate=162181&logger_kw=ca_main_more',\n",
    " '음악-미술완구': 'http://prod.danawa.com/list/?cate=16238357&logger_kw=ca_main_more',\n",
    " '신생아-영유아완구': 'http://prod.danawa.com/list/?cate=16238376&logger_kw=ca_main_more',\n",
    " '인형': 'http://prod.danawa.com/list/?cate=16238377&logger_kw=ca_main_more',\n",
    " '코딩완구': 'http://prod.danawa.com/list/?cate=16233793&logger_kw=ca_main_more',\n",
    " '책가방-신발주머니인기메뉴': 'http://prod.danawa.com/list/?cate=162258&logger_kw=ca_main_more'\n",
    "}"
   ]
  },
  {
   "cell_type": "code",
   "execution_count": 59,
   "metadata": {},
   "outputs": [
    {
     "data": {
      "text/plain": [
       "{'국내분유': 'http://prod.danawa.com/list/?cate=16281&logger_kw=ca_main_more'}"
      ]
     },
     "execution_count": 59,
     "metadata": {},
     "output_type": "execute_result"
    }
   ],
   "source": [
    "actual_tkb_links"
   ]
  },
  {
   "cell_type": "code",
   "execution_count": 210,
   "metadata": {},
   "outputs": [],
   "source": [
    "def get_prod_items(prod_items):\n",
    "    prod_data = []\n",
    "    for prod_item in prod_items:\n",
    "        #name\n",
    "        try:\n",
    "            title = prod_item.select(\"p.prod_name > a\")[0].text.strip()\n",
    "        except:\n",
    "            title = ''\n",
    "        #specs\n",
    "        try:\n",
    "            spec = prod_item.select(\"div.spec_list\")[0].text.strip()\n",
    "        except:\n",
    "            spec = ''\n",
    "        #price\n",
    "        try:\n",
    "            amount = prod_items[0].select('li.rank_one > div.over_preview > p.memory_sect')[0].text.replace('\\t','').replace('\\n','|')\n",
    "        except:\n",
    "            try:\n",
    "                amount = prod_items[0].select('div.prod_pricelist > ul > li > div.over_preview > p.memory_sect')[0].text.replace('\\t','').replace('\\n','|')\n",
    "            except:\n",
    "                amount = ''\n",
    "        try:\n",
    "            price = prod_item.select('li.rank_one > p.price_sect > a > strong')[0].text.strip().replace(',','')\n",
    "            price = int(price)\n",
    "        except:\n",
    "            price = prod_item.select('div.prod_pricelist > ul > li > p.price_sect > a > strong')[0].text.strip().replace(',','')\n",
    "            try: \n",
    "                price = int(price)\n",
    "            except:\n",
    "                price = str(price)\n",
    "        prod_data.append([title,spec,amount,price])\n",
    "    return prod_data"
   ]
  },
  {
   "cell_type": "markdown",
   "metadata": {},
   "source": [
    "### the code kinda fucks up once there are around 3000 pages per sub category and I have no idea why, had to resort to keyboard interrupting when there was an infinite loop and restart from where I left off\n",
    "\n",
    "#### eventually cut off the product scraping when the script scraped over 2000 products"
   ]
  },
  {
   "cell_type": "code",
   "execution_count": 258,
   "metadata": {},
   "outputs": [
    {
     "name": "stdout",
     "output_type": "stream",
     "text": [
      "킥보드-승용완구신규메뉴  완료\n",
      "역할놀이-소꿉놀이  완료\n",
      "너프건-스포츠완구  완료\n",
      "실내대형완구  완료\n",
      "학습-과학완구  완료\n",
      "음악-미술완구  완료\n",
      "신생아-영유아완구  완료\n",
      "인형  완료\n",
      "코딩완구  완료\n",
      "책가방-신발주머니인기메뉴  완료\n",
      "완료\n"
     ]
    }
   ],
   "source": [
    "for k in actual_tkb_links.keys():\n",
    "    link = actual_tkb_links[k]\n",
    "    driver.get(link)\n",
    "    time.sleep(3)\n",
    "    \n",
    "    product_per_page = Select(driver.find_element_by_css_selector('select.qnt_selector'))\n",
    "    product_per_page.select_by_value('90')\n",
    "    time.sleep(3)\n",
    "    \n",
    "    current_page = 1\n",
    "    html = driver.page_source\n",
    "    soup = BeautifulSoup(html, 'html.parser')\n",
    "    prod_data_total = []\n",
    "    find = True\n",
    "#     product_num = float(soup.select('div.product_list_wrap > div.product_list_area > div.prod_list_tab > ul.tab_list')[0].text.split(\"(\")[1].split(\")\")[0].replace(\",\",\"\"))\n",
    "#     pages = round(product_num/90)+1\n",
    "    while find:\n",
    "        html = driver.page_source\n",
    "        soup = BeautifulSoup(html, 'html.parser')\n",
    "        prod_items = soup.select('div.main_prodlist > ul.product_list > li.prod_item')\n",
    "        if len(prod_items) == 0 or len(prod_data_total) > 2000:\n",
    "            find = False;\n",
    "        else:\n",
    "            prod_items_list = get_prod_items(prod_items)\n",
    "            prod_data_total = prod_data_total + prod_items_list\n",
    "            current_page += 1\n",
    "            driver.execute_script(f\"movePage({current_page})\")\n",
    "            time.sleep(3)\n",
    "        \n",
    "    data = pd.DataFrame(prod_data_total)\n",
    "    data.columns = ['name','details','amount','price']\n",
    "    data.to_excel('danawa_{}_result.xlsx'.format(k), index=False)\n",
    "    print(k,\" 완료\")\n",
    "print(\"완료\")"
   ]
  },
  {
   "cell_type": "code",
   "execution_count": 255,
   "metadata": {},
   "outputs": [
    {
     "name": "stdout",
     "output_type": "stream",
     "text": [
      "로봇-자동차-팽이인기메뉴  완료\n"
     ]
    }
   ],
   "source": [
    "data = pd.DataFrame(prod_data_total)\n",
    "data.columns = ['name','details','amount','price']\n",
    "data.to_excel('danawa_{}_result.xlsx'.format(k), index=False)\n",
    "print(k,\" 완료\")"
   ]
  },
  {
   "cell_type": "code",
   "execution_count": 219,
   "metadata": {},
   "outputs": [
    {
     "data": {
      "text/plain": [
       "31"
      ]
     },
     "execution_count": 219,
     "metadata": {},
     "output_type": "execute_result"
    }
   ],
   "source": [
    "current_page"
   ]
  },
  {
   "cell_type": "code",
   "execution_count": 130,
   "metadata": {},
   "outputs": [
    {
     "data": {
      "text/plain": [
       "[]"
      ]
     },
     "execution_count": 130,
     "metadata": {},
     "output_type": "execute_result"
    }
   ],
   "source": [
    "prod_data_total"
   ]
  },
  {
   "cell_type": "code",
   "execution_count": 72,
   "metadata": {},
   "outputs": [],
   "source": [
    "product_per_page = Select(driver.find_element_by_css_selector('select.qnt_selector'))\n",
    "product_per_page.select_by_value('90')"
   ]
  },
  {
   "cell_type": "code",
   "execution_count": 226,
   "metadata": {},
   "outputs": [],
   "source": [
    "html = driver.page_source\n",
    "soup = BeautifulSoup(html, 'html.parser')"
   ]
  },
  {
   "cell_type": "code",
   "execution_count": 252,
   "metadata": {},
   "outputs": [
    {
     "data": {
      "text/plain": [
       "42"
      ]
     },
     "execution_count": 252,
     "metadata": {},
     "output_type": "execute_result"
    }
   ],
   "source": [
    "product_num = float(soup.select('div.product_list_wrap > div.product_list_area > div.prod_list_tab > ul.tab_list')[0].text.split(\"(\")[1].split(\")\")[0].replace(\",\",\"\"))\n",
    "round(product_num/90)"
   ]
  },
  {
   "cell_type": "code",
   "execution_count": 177,
   "metadata": {},
   "outputs": [],
   "source": [
    "prod_items = soup.select('div.main_prodlist > ul.product_list > li.prod_item')"
   ]
  },
  {
   "cell_type": "code",
   "execution_count": 205,
   "metadata": {},
   "outputs": [
    {
     "data": {
      "text/plain": [
       "'|1위|3캔|445원/10g||'"
      ]
     },
     "execution_count": 205,
     "metadata": {},
     "output_type": "execute_result"
    }
   ],
   "source": [
    "rank_one = prod_items[0].select('li.rank_one > div.over_preview > p.memory_sect')[0].text.replace('\\t','').replace('\\n','|')\n",
    "rank_one"
   ]
  },
  {
   "cell_type": "code",
   "execution_count": 164,
   "metadata": {},
   "outputs": [
    {
     "data": {
      "text/plain": [
       "[]"
      ]
     },
     "execution_count": 164,
     "metadata": {},
     "output_type": "execute_result"
    }
   ],
   "source": [
    "prod_items = soup.select('div.main_prodlist > ul.product_list > li.prod_item')\n",
    "prod_items"
   ]
  },
  {
   "cell_type": "code",
   "execution_count": 153,
   "metadata": {},
   "outputs": [],
   "source": [
    "pages = soup.select('div.prod_num_nav > div.num_nav_wrap > div.number_wrap > a')"
   ]
  },
  {
   "cell_type": "code",
   "execution_count": 79,
   "metadata": {},
   "outputs": [],
   "source": [
    "current_page = 1\n",
    "page_count = 0"
   ]
  },
  {
   "cell_type": "code",
   "execution_count": 154,
   "metadata": {},
   "outputs": [
    {
     "data": {
      "text/plain": [
       "[<a class=\"num now_on\" href=\"#\" onclick=\"return false\" onmousedown=\"_trkEventLog('15상품리스트_페이지')\">1</a>,\n",
       " <a class=\"num\" href=\"#\" onclick=\"javascript:movePage(2); return false;\" onmousedown=\"_trkEventLog('15상품리스트_페이지')\">2</a>,\n",
       " <a class=\"num\" href=\"#\" onclick=\"javascript:movePage(3); return false;\" onmousedown=\"_trkEventLog('15상품리스트_페이지')\">3</a>,\n",
       " <a class=\"num\" href=\"#\" onclick=\"javascript:movePage(4); return false;\" onmousedown=\"_trkEventLog('15상품리스트_페이지')\">4</a>,\n",
       " <a class=\"num\" href=\"#\" onclick=\"javascript:movePage(5); return false;\" onmousedown=\"_trkEventLog('15상품리스트_페이지')\">5</a>,\n",
       " <a class=\"num\" href=\"#\" onclick=\"javascript:movePage(6); return false;\" onmousedown=\"_trkEventLog('15상품리스트_페이지')\">6</a>,\n",
       " <a class=\"num\" href=\"#\" onclick=\"javascript:movePage(7); return false;\" onmousedown=\"_trkEventLog('15상품리스트_페이지')\">7</a>,\n",
       " <a class=\"num\" href=\"#\" onclick=\"javascript:movePage(8); return false;\" onmousedown=\"_trkEventLog('15상품리스트_페이지')\">8</a>,\n",
       " <a class=\"num\" href=\"#\" onclick=\"javascript:movePage(9); return false;\" onmousedown=\"_trkEventLog('15상품리스트_페이지')\">9</a>,\n",
       " <a class=\"num\" href=\"#\" onclick=\"javascript:movePage(10); return false;\" onmousedown=\"_trkEventLog('15상품리스트_페이지')\">10</a>]"
      ]
     },
     "execution_count": 154,
     "metadata": {},
     "output_type": "execute_result"
    }
   ],
   "source": [
    "pages"
   ]
  },
  {
   "cell_type": "code",
   "execution_count": 157,
   "metadata": {},
   "outputs": [
    {
     "data": {
      "text/plain": [
       "10"
      ]
     },
     "execution_count": 157,
     "metadata": {},
     "output_type": "execute_result"
    }
   ],
   "source": [
    "len(pages)"
   ]
  },
  {
   "cell_type": "code",
   "execution_count": 90,
   "metadata": {},
   "outputs": [
    {
     "data": {
      "text/plain": [
       "'movePage(3)'"
      ]
     },
     "execution_count": 90,
     "metadata": {},
     "output_type": "execute_result"
    }
   ],
   "source": [
    "'movePage({})'.format(str(pages[-1]).split(\">\")[1][0])"
   ]
  },
  {
   "cell_type": "code",
   "execution_count": 162,
   "metadata": {},
   "outputs": [],
   "source": [
    "driver.execute_script(\"movePage(17)\")"
   ]
  },
  {
   "cell_type": "code",
   "execution_count": 93,
   "metadata": {},
   "outputs": [
    {
     "data": {
      "text/plain": [
       "['foo1', 'foo2', 'foo3']"
      ]
     },
     "execution_count": 93,
     "metadata": {},
     "output_type": "execute_result"
    }
   ],
   "source": [
    "current = 1\n",
    "maximum = 3\n",
    "test = []\n",
    "while current <= maximum:\n",
    "    test.append(f\"foo{current}\")\n",
    "    current += 1\n",
    "test"
   ]
  },
  {
   "cell_type": "code",
   "execution_count": 112,
   "metadata": {},
   "outputs": [],
   "source": [
    "test = soup.select('p.price_sect > a > strong')"
   ]
  },
  {
   "cell_type": "code",
   "execution_count": 113,
   "metadata": {},
   "outputs": [
    {
     "data": {
      "text/plain": [
       "[<strong>81,900</strong>,\n",
       " <strong>85,900</strong>,\n",
       " <strong>85,900</strong>,\n",
       " <strong>124,100</strong>,\n",
       " <strong>124,100</strong>,\n",
       " <strong>124,100</strong>,\n",
       " <strong>30,000</strong>,\n",
       " <strong>13,300</strong>,\n",
       " <strong class=\"no_sale\">일시품절</strong>,\n",
       " <strong>21,520</strong>,\n",
       " <strong>104,600</strong>,\n",
       " <strong>24,000</strong>,\n",
       " <strong>32,990</strong>,\n",
       " <strong>32,990</strong>,\n",
       " <strong>15,250</strong>,\n",
       " <strong>15,250</strong>,\n",
       " <strong>129,800</strong>,\n",
       " <strong>19,900</strong>,\n",
       " <strong>24,000</strong>,\n",
       " <strong>192,600</strong>,\n",
       " <strong>12,900</strong>,\n",
       " <strong>222295</strong>]"
      ]
     },
     "execution_count": 113,
     "metadata": {},
     "output_type": "execute_result"
    }
   ],
   "source": [
    "test"
   ]
  },
  {
   "cell_type": "code",
   "execution_count": 10,
   "metadata": {},
   "outputs": [],
   "source": [
    "brands = []\n",
    "subcats = []"
   ]
  },
  {
   "cell_type": "code",
   "execution_count": 13,
   "metadata": {},
   "outputs": [],
   "source": [
    "for k in actual_tkb_links.keys():\n",
    "    link = actual_tkb_links[k]\n",
    "    driver.get(link)\n",
    "    time.sleep(3)\n",
    "    html = driver.page_source\n",
    "    soup = BeautifulSoup(html, 'html.parser')\n",
    "    for ultag in soup.find_all('ul', {'class': 'item_list_all'}):\n",
    "        for litag in ultag.find_all('li'):\n",
    "            brands.append(litag.text.strip())\n",
    "            subcats.append(k)\n",
    "dnw_tkb_brands = pd.DataFrame(list(zip(brands,subcats)),columns=(\"brands\",\"subcats\"))\n",
    "dnw_tkb_brands.to_excel(\"dnw_tkb_brands.xlsx\",index=False)"
   ]
  },
  {
   "attachments": {
    "41514578-3bf6-43ef-9271-63d6b0314a64.png": {
     "image/png": "[encoded data removed]"
    }
   },
   "cell_type": "markdown",
   "metadata": {},
   "source": [
    "![image.png](attachment:41514578-3bf6-43ef-9271-63d6b0314a64.png)"
   ]
  },
  {
   "cell_type": "code",
   "execution_count": 9,
   "metadata": {},
   "outputs": [
    {
     "name": "stdout",
     "output_type": "stream",
     "text": [
      "   남양유업\t\n",
      "   롯데푸드\t\n",
      "   매일유업\t\n",
      "   베비언스\t\n",
      "   아기밀\t\n",
      "   아이배냇\t\n",
      "   일동후디스\t\n",
      "   파스퇴르\t\n"
     ]
    }
   ],
   "source": [
    "for ultag in soup.find_all('ul', {'class': 'item_list_all'}):\n",
    "    for litag in ultag.find_all('li'):\n",
    "        print (litag.text)"
   ]
  },
  {
   "cell_type": "code",
   "execution_count": null,
   "metadata": {},
   "outputs": [],
   "source": []
  },
  {
   "cell_type": "code",
   "execution_count": null,
   "metadata": {},
   "outputs": [],
   "source": []
  },
  {
   "cell_type": "code",
   "execution_count": null,
   "metadata": {},
   "outputs": [],
   "source": []
  },
  {
   "cell_type": "code",
   "execution_count": null,
   "metadata": {},
   "outputs": [],
   "source": []
  },
  {
   "cell_type": "code",
   "execution_count": null,
   "metadata": {},
   "outputs": [],
   "source": []
  },
  {
   "cell_type": "code",
   "execution_count": null,
   "metadata": {},
   "outputs": [],
   "source": []
  }
 ],
 "metadata": {
  "kernelspec": {
   "display_name": "Python 3",
   "language": "python",
   "name": "python3"
  },
  "language_info": {
   "codemirror_mode": {
    "name": "ipython",
    "version": 3
   },
   "file_extension": ".py",
   "mimetype": "text/x-python",
   "name": "python",
   "nbconvert_exporter": "python",
   "pygments_lexer": "ipython3",
   "version": "3.8.5"
  }
 },
 "nbformat": 4,
 "nbformat_minor": 4
}
