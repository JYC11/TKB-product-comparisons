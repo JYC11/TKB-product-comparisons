{
 "cells": [
  {
   "cell_type": "markdown",
   "metadata": {},
   "source": [
    "# DATA CLEANING PART 2\n",
    "## was going to do EDA but realised I needed to clean more goddammit"
   ]
  },
  {
   "cell_type": "markdown",
   "metadata": {},
   "source": [
    "steps to take:\n",
    "* calculate price per unit for every product\n",
    "* get frequency of brands(how often they appear) per sub category\n",
    "* average price per sub category\n",
    "* compare by country price per unit by sub category\n",
    "* what are the most frequent brands per sub category per country\n",
    "* words used in product name\n",
    "* words used in description(malaysia and philippines only)"
   ]
  },
  {
   "cell_type": "markdown",
   "metadata": {},
   "source": [
    "Also need to reorder columns just gonna do it in excel tbh"
   ]
  },
  {
   "cell_type": "code",
   "execution_count": 1,
   "metadata": {},
   "outputs": [],
   "source": [
    "import pandas as pd\n",
    "import numpy as np #I barely have use for numpy yet I import it every time\n",
    "import matplotlib.pyplot as plt\n",
    "import seaborn as sns\n",
    "from scipy import stats\n",
    "import re"
   ]
  },
  {
   "cell_type": "markdown",
   "metadata": {},
   "source": [
    "price per unit calculation\n",
    "* convert kg and l to g and ml by multiplying by a thousand\n",
    "* replace kg with g replace l with ml(replace mll with ml)\n",
    "* ppu formula = price / (quantity * amount)\n",
    "* if units = g or ml then calculate cost per 10g or 10ml (ppu formula * 10)"
   ]
  },
  {
   "cell_type": "markdown",
   "metadata": {},
   "source": [
    "### ok so was looking back at my data one last time before I do it and my amount/quantity regex wasn't perfect so there was some stuff I had to fix, regex is hard and I need to git gud\n",
    "\n",
    "### the problem was diapers - the diapers had quantities in the name but no units just plain numbers so when I made the regex I made it look specifically for numbers and units \n",
    "\n",
    "### diaper quantities didn't get extracted properly as a result \n",
    "\n",
    "### but there was stuff where numbers didn't mean quantity so argreiurglwurgw\n",
    "\n",
    "### anyway solved by using regex function in google sheets \n",
    "\n",
    "### I wish there was a regex function in excel(without using vba) like google sheets "
   ]
  },
  {
   "cell_type": "markdown",
   "metadata": {},
   "source": [
    "## More specific steps:\n",
    "\n",
    "### 1. read the files\n",
    "### 2. make columns equal\n",
    "### 3. combine them\n",
    "### 4. do EDA all at once"
   ]
  },
  {
   "cell_type": "markdown",
   "metadata": {},
   "source": [
    "One annoying thing about using pandas is that it's kinda hard(right now, may need to just git gud) to literally see how things are. Kinda should use pandas more but sometimes excel is too useful. Maybe for much much larger datasets I can afford to just mass impute values, mass drop them etc."
   ]
  },
  {
   "cell_type": "code",
   "execution_count": 152,
   "metadata": {},
   "outputs": [],
   "source": [
    "raw_data = pd.read_excel(\"countries_combined.xlsx\")"
   ]
  },
  {
   "cell_type": "code",
   "execution_count": 153,
   "metadata": {},
   "outputs": [
    {
     "data": {
      "text/html": [
       "<div>\n",
       "<style scoped>\n",
       "    .dataframe tbody tr th:only-of-type {\n",
       "        vertical-align: middle;\n",
       "    }\n",
       "\n",
       "    .dataframe tbody tr th {\n",
       "        vertical-align: top;\n",
       "    }\n",
       "\n",
       "    .dataframe thead th {\n",
       "        text-align: right;\n",
       "    }\n",
       "</style>\n",
       "<table border=\"1\" class=\"dataframe\">\n",
       "  <thead>\n",
       "    <tr style=\"text-align: right;\">\n",
       "      <th></th>\n",
       "      <th>name</th>\n",
       "      <th>price</th>\n",
       "      <th>cat1</th>\n",
       "      <th>cat2</th>\n",
       "      <th>cat3</th>\n",
       "      <th>brand</th>\n",
       "      <th>units</th>\n",
       "      <th>qty</th>\n",
       "      <th>amounts</th>\n",
       "      <th>ppu</th>\n",
       "      <th>special_requirement</th>\n",
       "      <th>country</th>\n",
       "    </tr>\n",
       "  </thead>\n",
       "  <tbody>\n",
       "    <tr>\n",
       "      <th>0</th>\n",
       "      <td>Heinz Baby Biscotti (60g) - 4 Variants</td>\n",
       "      <td>6.9</td>\n",
       "      <td>Baby &amp; Toys</td>\n",
       "      <td>Formula &amp; Food</td>\n",
       "      <td>Puree</td>\n",
       "      <td>Heinz</td>\n",
       "      <td>g</td>\n",
       "      <td>1</td>\n",
       "      <td>60.0</td>\n",
       "      <td>None</td>\n",
       "      <td>-</td>\n",
       "      <td>MY</td>\n",
       "    </tr>\n",
       "    <tr>\n",
       "      <th>1</th>\n",
       "      <td>Snow Neo Baby Step 2 (900g)</td>\n",
       "      <td>87.6</td>\n",
       "      <td>Baby &amp; Toys</td>\n",
       "      <td>Formula &amp; Food</td>\n",
       "      <td>Follow-On Milk (6-12 months)</td>\n",
       "      <td>Snow</td>\n",
       "      <td>g</td>\n",
       "      <td>1</td>\n",
       "      <td>900.0</td>\n",
       "      <td>None</td>\n",
       "      <td>-</td>\n",
       "      <td>MY</td>\n",
       "    </tr>\n",
       "    <tr>\n",
       "      <th>2</th>\n",
       "      <td>Cuddly Plush Teddy Bear Cream with Cap 30cm</td>\n",
       "      <td>59.9</td>\n",
       "      <td>Baby &amp; Toys</td>\n",
       "      <td>Toys &amp; Education</td>\n",
       "      <td>Stuffed Toys</td>\n",
       "      <td>Cuddly Plush</td>\n",
       "      <td>ea</td>\n",
       "      <td>1</td>\n",
       "      <td>1.0</td>\n",
       "      <td>None</td>\n",
       "      <td>-</td>\n",
       "      <td>MY</td>\n",
       "    </tr>\n",
       "    <tr>\n",
       "      <th>3</th>\n",
       "      <td>Johnson's Baby Oil Lite (125ml)</td>\n",
       "      <td>9.6</td>\n",
       "      <td>Baby &amp; Toys</td>\n",
       "      <td>Kids Health &amp; Skincare</td>\n",
       "      <td>Moisturizers</td>\n",
       "      <td>Johnson's</td>\n",
       "      <td>ml</td>\n",
       "      <td>1</td>\n",
       "      <td>125.0</td>\n",
       "      <td>None</td>\n",
       "      <td>-</td>\n",
       "      <td>MY</td>\n",
       "    </tr>\n",
       "    <tr>\n",
       "      <th>4</th>\n",
       "      <td>Carrie Junior Hair &amp; Body Wash - Cheeky Cherry...</td>\n",
       "      <td>8.5</td>\n",
       "      <td>Baby &amp; Toys</td>\n",
       "      <td>Bath &amp; Toiletries</td>\n",
       "      <td>Soaps</td>\n",
       "      <td>Carrie</td>\n",
       "      <td>ml</td>\n",
       "      <td>1</td>\n",
       "      <td>280.0</td>\n",
       "      <td>None</td>\n",
       "      <td>-</td>\n",
       "      <td>MY</td>\n",
       "    </tr>\n",
       "  </tbody>\n",
       "</table>\n",
       "</div>"
      ],
      "text/plain": [
       "                                                name price         cat1  \\\n",
       "0             Heinz Baby Biscotti (60g) - 4 Variants   6.9  Baby & Toys   \n",
       "1                        Snow Neo Baby Step 2 (900g)  87.6  Baby & Toys   \n",
       "2        Cuddly Plush Teddy Bear Cream with Cap 30cm  59.9  Baby & Toys   \n",
       "3                    Johnson's Baby Oil Lite (125ml)   9.6  Baby & Toys   \n",
       "4  Carrie Junior Hair & Body Wash - Cheeky Cherry...   8.5  Baby & Toys   \n",
       "\n",
       "                      cat2                           cat3         brand units  \\\n",
       "0           Formula & Food                          Puree         Heinz     g   \n",
       "1           Formula & Food   Follow-On Milk (6-12 months)          Snow     g   \n",
       "2         Toys & Education                   Stuffed Toys  Cuddly Plush    ea   \n",
       "3   Kids Health & Skincare                   Moisturizers     Johnson's    ml   \n",
       "4        Bath & Toiletries                          Soaps        Carrie    ml   \n",
       "\n",
       "   qty  amounts   ppu special_requirement country  \n",
       "0    1     60.0  None                   -      MY  \n",
       "1    1    900.0  None                   -      MY  \n",
       "2    1      1.0  None                   -      MY  \n",
       "3    1    125.0  None                   -      MY  \n",
       "4    1    280.0  None                   -      MY  "
      ]
     },
     "execution_count": 153,
     "metadata": {},
     "output_type": "execute_result"
    }
   ],
   "source": [
    "raw_data.head()"
   ]
  },
  {
   "cell_type": "code",
   "execution_count": 154,
   "metadata": {},
   "outputs": [],
   "source": [
    "copy = raw_data.copy()"
   ]
  },
  {
   "cell_type": "code",
   "execution_count": 155,
   "metadata": {},
   "outputs": [
    {
     "name": "stdout",
     "output_type": "stream",
     "text": [
      "<class 'pandas.core.frame.DataFrame'>\n",
      "RangeIndex: 57556 entries, 0 to 57555\n",
      "Data columns (total 12 columns):\n",
      " #   Column               Non-Null Count  Dtype  \n",
      "---  ------               --------------  -----  \n",
      " 0   name                 57556 non-null  object \n",
      " 1   price                57556 non-null  object \n",
      " 2   cat1                 57556 non-null  object \n",
      " 3   cat2                 57556 non-null  object \n",
      " 4   cat3                 57556 non-null  object \n",
      " 5   brand                57539 non-null  object \n",
      " 6   units                57556 non-null  object \n",
      " 7   qty                  57556 non-null  int64  \n",
      " 8   amounts              57556 non-null  float64\n",
      " 9   ppu                  57556 non-null  object \n",
      " 10  special_requirement  57556 non-null  object \n",
      " 11  country              57556 non-null  object \n",
      "dtypes: float64(1), int64(1), object(10)\n",
      "memory usage: 5.3+ MB\n"
     ]
    }
   ],
   "source": [
    "copy.info()"
   ]
  },
  {
   "cell_type": "code",
   "execution_count": 156,
   "metadata": {},
   "outputs": [
    {
     "data": {
      "text/plain": [
       "{'cm',\n",
       " 'ct',\n",
       " 'ea',\n",
       " 'g',\n",
       " 'kg',\n",
       " 'l',\n",
       " 'ml',\n",
       " 'mm',\n",
       " 'pack',\n",
       " 'pcs',\n",
       " 's',\n",
       " 'set',\n",
       " 'sqm',\n",
       " '개',\n",
       " '매',\n",
       " '세트',\n",
       " '장',\n",
       " '조각',\n",
       " '종',\n",
       " '통',\n",
       " '팩'}"
      ]
     },
     "execution_count": 156,
     "metadata": {},
     "output_type": "execute_result"
    }
   ],
   "source": [
    "units = set([i for i in copy[\"units\"]])\n",
    "units"
   ]
  },
  {
   "cell_type": "code",
   "execution_count": 157,
   "metadata": {},
   "outputs": [],
   "source": [
    "copy[\"qty\"] = copy[\"qty\"].astype(float)\n",
    "copy[\"amounts\"] = copy[\"amounts\"].astype(float)"
   ]
  },
  {
   "cell_type": "code",
   "execution_count": 158,
   "metadata": {},
   "outputs": [
    {
     "data": {
      "text/html": [
       "<div>\n",
       "<style scoped>\n",
       "    .dataframe tbody tr th:only-of-type {\n",
       "        vertical-align: middle;\n",
       "    }\n",
       "\n",
       "    .dataframe tbody tr th {\n",
       "        vertical-align: top;\n",
       "    }\n",
       "\n",
       "    .dataframe thead th {\n",
       "        text-align: right;\n",
       "    }\n",
       "</style>\n",
       "<table border=\"1\" class=\"dataframe\">\n",
       "  <thead>\n",
       "    <tr style=\"text-align: right;\">\n",
       "      <th></th>\n",
       "      <th>name</th>\n",
       "      <th>cat1</th>\n",
       "      <th>cat2</th>\n",
       "      <th>cat3</th>\n",
       "      <th>brand</th>\n",
       "      <th>units</th>\n",
       "      <th>qty</th>\n",
       "      <th>amounts</th>\n",
       "      <th>ppu</th>\n",
       "      <th>special_requirement</th>\n",
       "      <th>country</th>\n",
       "      <th>price</th>\n",
       "    </tr>\n",
       "  </thead>\n",
       "  <tbody>\n",
       "    <tr>\n",
       "      <th>0</th>\n",
       "      <td>Heinz Baby Biscotti (60g) - 4 Variants</td>\n",
       "      <td>Baby &amp; Toys</td>\n",
       "      <td>Formula &amp; Food</td>\n",
       "      <td>Puree</td>\n",
       "      <td>Heinz</td>\n",
       "      <td>g</td>\n",
       "      <td>1.0</td>\n",
       "      <td>60.0</td>\n",
       "      <td>None</td>\n",
       "      <td>-</td>\n",
       "      <td>MY</td>\n",
       "      <td>6.9</td>\n",
       "    </tr>\n",
       "    <tr>\n",
       "      <th>1</th>\n",
       "      <td>Snow Neo Baby Step 2 (900g)</td>\n",
       "      <td>Baby &amp; Toys</td>\n",
       "      <td>Formula &amp; Food</td>\n",
       "      <td>Follow-On Milk (6-12 months)</td>\n",
       "      <td>Snow</td>\n",
       "      <td>g</td>\n",
       "      <td>1.0</td>\n",
       "      <td>900.0</td>\n",
       "      <td>None</td>\n",
       "      <td>-</td>\n",
       "      <td>MY</td>\n",
       "      <td>87.6</td>\n",
       "    </tr>\n",
       "    <tr>\n",
       "      <th>2</th>\n",
       "      <td>Cuddly Plush Teddy Bear Cream with Cap 30cm</td>\n",
       "      <td>Baby &amp; Toys</td>\n",
       "      <td>Toys &amp; Education</td>\n",
       "      <td>Stuffed Toys</td>\n",
       "      <td>Cuddly Plush</td>\n",
       "      <td>ea</td>\n",
       "      <td>1.0</td>\n",
       "      <td>1.0</td>\n",
       "      <td>None</td>\n",
       "      <td>-</td>\n",
       "      <td>MY</td>\n",
       "      <td>59.9</td>\n",
       "    </tr>\n",
       "    <tr>\n",
       "      <th>3</th>\n",
       "      <td>Johnson's Baby Oil Lite (125ml)</td>\n",
       "      <td>Baby &amp; Toys</td>\n",
       "      <td>Kids Health &amp; Skincare</td>\n",
       "      <td>Moisturizers</td>\n",
       "      <td>Johnson's</td>\n",
       "      <td>ml</td>\n",
       "      <td>1.0</td>\n",
       "      <td>125.0</td>\n",
       "      <td>None</td>\n",
       "      <td>-</td>\n",
       "      <td>MY</td>\n",
       "      <td>9.6</td>\n",
       "    </tr>\n",
       "    <tr>\n",
       "      <th>4</th>\n",
       "      <td>Carrie Junior Hair &amp; Body Wash - Cheeky Cherry...</td>\n",
       "      <td>Baby &amp; Toys</td>\n",
       "      <td>Bath &amp; Toiletries</td>\n",
       "      <td>Soaps</td>\n",
       "      <td>Carrie</td>\n",
       "      <td>ml</td>\n",
       "      <td>1.0</td>\n",
       "      <td>280.0</td>\n",
       "      <td>None</td>\n",
       "      <td>-</td>\n",
       "      <td>MY</td>\n",
       "      <td>8.5</td>\n",
       "    </tr>\n",
       "    <tr>\n",
       "      <th>...</th>\n",
       "      <td>...</td>\n",
       "      <td>...</td>\n",
       "      <td>...</td>\n",
       "      <td>...</td>\n",
       "      <td>...</td>\n",
       "      <td>...</td>\n",
       "      <td>...</td>\n",
       "      <td>...</td>\n",
       "      <td>...</td>\n",
       "      <td>...</td>\n",
       "      <td>...</td>\n",
       "      <td>...</td>\n",
       "    </tr>\n",
       "    <tr>\n",
       "      <th>57550</th>\n",
       "      <td>중모토이플러스 해피 330 휴대형 유모차</td>\n",
       "      <td>Toys, Kids &amp; Babies</td>\n",
       "      <td>휴대용유모차</td>\n",
       "      <td>-</td>\n",
       "      <td>중모토이플러스</td>\n",
       "      <td>ea</td>\n",
       "      <td>1.0</td>\n",
       "      <td>1.0</td>\n",
       "      <td>None</td>\n",
       "      <td>-</td>\n",
       "      <td>KR</td>\n",
       "      <td>48200.0</td>\n",
       "    </tr>\n",
       "    <tr>\n",
       "      <th>57552</th>\n",
       "      <td>GB 히어로 휴대형 유모차</td>\n",
       "      <td>Toys, Kids &amp; Babies</td>\n",
       "      <td>휴대용유모차</td>\n",
       "      <td>-</td>\n",
       "      <td>None</td>\n",
       "      <td>ea</td>\n",
       "      <td>1.0</td>\n",
       "      <td>1.0</td>\n",
       "      <td>None</td>\n",
       "      <td>-</td>\n",
       "      <td>KR</td>\n",
       "      <td>234380.0</td>\n",
       "    </tr>\n",
       "    <tr>\n",
       "      <th>57553</th>\n",
       "      <td>치코 C6 휴대형 유모차</td>\n",
       "      <td>Toys, Kids &amp; Babies</td>\n",
       "      <td>휴대용유모차</td>\n",
       "      <td>-</td>\n",
       "      <td>치코</td>\n",
       "      <td>ea</td>\n",
       "      <td>1.0</td>\n",
       "      <td>1.0</td>\n",
       "      <td>None</td>\n",
       "      <td>-</td>\n",
       "      <td>KR</td>\n",
       "      <td>89010.0</td>\n",
       "    </tr>\n",
       "    <tr>\n",
       "      <th>57554</th>\n",
       "      <td>톰비 GTX 휴대형 유모차</td>\n",
       "      <td>Toys, Kids &amp; Babies</td>\n",
       "      <td>휴대용유모차</td>\n",
       "      <td>-</td>\n",
       "      <td>톰비</td>\n",
       "      <td>ea</td>\n",
       "      <td>1.0</td>\n",
       "      <td>1.0</td>\n",
       "      <td>None</td>\n",
       "      <td>-</td>\n",
       "      <td>KR</td>\n",
       "      <td>69797.0</td>\n",
       "    </tr>\n",
       "    <tr>\n",
       "      <th>57555</th>\n",
       "      <td>bgIzWA6rKT</td>\n",
       "      <td>Toys, Kids &amp; Babies</td>\n",
       "      <td>휴대용유모차</td>\n",
       "      <td>-</td>\n",
       "      <td>None</td>\n",
       "      <td>ea</td>\n",
       "      <td>1.0</td>\n",
       "      <td>1.0</td>\n",
       "      <td>None</td>\n",
       "      <td>-</td>\n",
       "      <td>KR</td>\n",
       "      <td>600154.0</td>\n",
       "    </tr>\n",
       "  </tbody>\n",
       "</table>\n",
       "<p>56325 rows × 12 columns</p>\n",
       "</div>"
      ],
      "text/plain": [
       "                                                    name                 cat1  \\\n",
       "0                 Heinz Baby Biscotti (60g) - 4 Variants          Baby & Toys   \n",
       "1                            Snow Neo Baby Step 2 (900g)          Baby & Toys   \n",
       "2            Cuddly Plush Teddy Bear Cream with Cap 30cm          Baby & Toys   \n",
       "3                        Johnson's Baby Oil Lite (125ml)          Baby & Toys   \n",
       "4      Carrie Junior Hair & Body Wash - Cheeky Cherry...          Baby & Toys   \n",
       "...                                                  ...                  ...   \n",
       "57550                             중모토이플러스 해피 330 휴대형 유모차  Toys, Kids & Babies   \n",
       "57552                                     GB 히어로 휴대형 유모차  Toys, Kids & Babies   \n",
       "57553                                      치코 C6 휴대형 유모차  Toys, Kids & Babies   \n",
       "57554                                     톰비 GTX 휴대형 유모차  Toys, Kids & Babies   \n",
       "57555                                         bgIzWA6rKT  Toys, Kids & Babies   \n",
       "\n",
       "                          cat2                           cat3         brand  \\\n",
       "0               Formula & Food                          Puree         Heinz   \n",
       "1               Formula & Food   Follow-On Milk (6-12 months)          Snow   \n",
       "2             Toys & Education                   Stuffed Toys  Cuddly Plush   \n",
       "3       Kids Health & Skincare                   Moisturizers     Johnson's   \n",
       "4            Bath & Toiletries                          Soaps        Carrie   \n",
       "...                        ...                            ...           ...   \n",
       "57550                   휴대용유모차                              -       중모토이플러스   \n",
       "57552                   휴대용유모차                              -          None   \n",
       "57553                   휴대용유모차                              -            치코   \n",
       "57554                   휴대용유모차                              -            톰비   \n",
       "57555                   휴대용유모차                              -          None   \n",
       "\n",
       "      units  qty  amounts   ppu special_requirement country     price  \n",
       "0         g  1.0     60.0  None                   -      MY       6.9  \n",
       "1         g  1.0    900.0  None                   -      MY      87.6  \n",
       "2        ea  1.0      1.0  None                   -      MY      59.9  \n",
       "3        ml  1.0    125.0  None                   -      MY       9.6  \n",
       "4        ml  1.0    280.0  None                   -      MY       8.5  \n",
       "...     ...  ...      ...   ...                 ...     ...       ...  \n",
       "57550    ea  1.0      1.0  None                   -      KR   48200.0  \n",
       "57552    ea  1.0      1.0  None                   -      KR  234380.0  \n",
       "57553    ea  1.0      1.0  None                   -      KR   89010.0  \n",
       "57554    ea  1.0      1.0  None                   -      KR   69797.0  \n",
       "57555    ea  1.0      1.0  None                   -      KR  600154.0  \n",
       "\n",
       "[56325 rows x 12 columns]"
      ]
     },
     "execution_count": 158,
     "metadata": {},
     "output_type": "execute_result"
    }
   ],
   "source": [
    "column = [\"price\"]\n",
    "#removing price values that are strings eg: sold out\n",
    "copy = (copy\n",
    "       .drop(column,axis = 1)\n",
    "       .join(copy[column].apply(pd.to_numeric,errors='coerce')))\n",
    "copy[copy[column].notnull().all(axis=1)]"
   ]
  },
  {
   "cell_type": "code",
   "execution_count": 159,
   "metadata": {},
   "outputs": [
    {
     "data": {
      "text/plain": [
       "['name',\n",
       " 'price',\n",
       " 'cat1',\n",
       " 'cat2',\n",
       " 'cat3',\n",
       " 'brand',\n",
       " 'units',\n",
       " 'qty',\n",
       " 'amounts',\n",
       " 'ppu',\n",
       " 'special_requirement',\n",
       " 'country']"
      ]
     },
     "execution_count": 159,
     "metadata": {},
     "output_type": "execute_result"
    }
   ],
   "source": [
    "cols = list(copy.columns.values)\n",
    "cols.insert(1,\"price\")\n",
    "cols = cols[:-1]\n",
    "cols\n",
    "#copy = copy[cols]"
   ]
  },
  {
   "cell_type": "code",
   "execution_count": 160,
   "metadata": {},
   "outputs": [],
   "source": [
    "copy = copy[cols]"
   ]
  },
  {
   "cell_type": "code",
   "execution_count": 161,
   "metadata": {},
   "outputs": [
    {
     "data": {
      "text/html": [
       "<div>\n",
       "<style scoped>\n",
       "    .dataframe tbody tr th:only-of-type {\n",
       "        vertical-align: middle;\n",
       "    }\n",
       "\n",
       "    .dataframe tbody tr th {\n",
       "        vertical-align: top;\n",
       "    }\n",
       "\n",
       "    .dataframe thead th {\n",
       "        text-align: right;\n",
       "    }\n",
       "</style>\n",
       "<table border=\"1\" class=\"dataframe\">\n",
       "  <thead>\n",
       "    <tr style=\"text-align: right;\">\n",
       "      <th></th>\n",
       "      <th>name</th>\n",
       "      <th>price</th>\n",
       "      <th>cat1</th>\n",
       "      <th>cat2</th>\n",
       "      <th>cat3</th>\n",
       "      <th>brand</th>\n",
       "      <th>units</th>\n",
       "      <th>qty</th>\n",
       "      <th>amounts</th>\n",
       "      <th>ppu</th>\n",
       "      <th>special_requirement</th>\n",
       "      <th>country</th>\n",
       "    </tr>\n",
       "  </thead>\n",
       "  <tbody>\n",
       "    <tr>\n",
       "      <th>0</th>\n",
       "      <td>Heinz Baby Biscotti (60g) - 4 Variants</td>\n",
       "      <td>6.9</td>\n",
       "      <td>Baby &amp; Toys</td>\n",
       "      <td>Formula &amp; Food</td>\n",
       "      <td>Puree</td>\n",
       "      <td>Heinz</td>\n",
       "      <td>g</td>\n",
       "      <td>1.0</td>\n",
       "      <td>60.0</td>\n",
       "      <td>None</td>\n",
       "      <td>-</td>\n",
       "      <td>MY</td>\n",
       "    </tr>\n",
       "    <tr>\n",
       "      <th>1</th>\n",
       "      <td>Snow Neo Baby Step 2 (900g)</td>\n",
       "      <td>87.6</td>\n",
       "      <td>Baby &amp; Toys</td>\n",
       "      <td>Formula &amp; Food</td>\n",
       "      <td>Follow-On Milk (6-12 months)</td>\n",
       "      <td>Snow</td>\n",
       "      <td>g</td>\n",
       "      <td>1.0</td>\n",
       "      <td>900.0</td>\n",
       "      <td>None</td>\n",
       "      <td>-</td>\n",
       "      <td>MY</td>\n",
       "    </tr>\n",
       "    <tr>\n",
       "      <th>2</th>\n",
       "      <td>Cuddly Plush Teddy Bear Cream with Cap 30cm</td>\n",
       "      <td>59.9</td>\n",
       "      <td>Baby &amp; Toys</td>\n",
       "      <td>Toys &amp; Education</td>\n",
       "      <td>Stuffed Toys</td>\n",
       "      <td>Cuddly Plush</td>\n",
       "      <td>ea</td>\n",
       "      <td>1.0</td>\n",
       "      <td>1.0</td>\n",
       "      <td>None</td>\n",
       "      <td>-</td>\n",
       "      <td>MY</td>\n",
       "    </tr>\n",
       "    <tr>\n",
       "      <th>3</th>\n",
       "      <td>Johnson's Baby Oil Lite (125ml)</td>\n",
       "      <td>9.6</td>\n",
       "      <td>Baby &amp; Toys</td>\n",
       "      <td>Kids Health &amp; Skincare</td>\n",
       "      <td>Moisturizers</td>\n",
       "      <td>Johnson's</td>\n",
       "      <td>ml</td>\n",
       "      <td>1.0</td>\n",
       "      <td>125.0</td>\n",
       "      <td>None</td>\n",
       "      <td>-</td>\n",
       "      <td>MY</td>\n",
       "    </tr>\n",
       "    <tr>\n",
       "      <th>4</th>\n",
       "      <td>Carrie Junior Hair &amp; Body Wash - Cheeky Cherry...</td>\n",
       "      <td>8.5</td>\n",
       "      <td>Baby &amp; Toys</td>\n",
       "      <td>Bath &amp; Toiletries</td>\n",
       "      <td>Soaps</td>\n",
       "      <td>Carrie</td>\n",
       "      <td>ml</td>\n",
       "      <td>1.0</td>\n",
       "      <td>280.0</td>\n",
       "      <td>None</td>\n",
       "      <td>-</td>\n",
       "      <td>MY</td>\n",
       "    </tr>\n",
       "  </tbody>\n",
       "</table>\n",
       "</div>"
      ],
      "text/plain": [
       "                                                name  price         cat1  \\\n",
       "0             Heinz Baby Biscotti (60g) - 4 Variants    6.9  Baby & Toys   \n",
       "1                        Snow Neo Baby Step 2 (900g)   87.6  Baby & Toys   \n",
       "2        Cuddly Plush Teddy Bear Cream with Cap 30cm   59.9  Baby & Toys   \n",
       "3                    Johnson's Baby Oil Lite (125ml)    9.6  Baby & Toys   \n",
       "4  Carrie Junior Hair & Body Wash - Cheeky Cherry...    8.5  Baby & Toys   \n",
       "\n",
       "                      cat2                           cat3         brand units  \\\n",
       "0           Formula & Food                          Puree         Heinz     g   \n",
       "1           Formula & Food   Follow-On Milk (6-12 months)          Snow     g   \n",
       "2         Toys & Education                   Stuffed Toys  Cuddly Plush    ea   \n",
       "3   Kids Health & Skincare                   Moisturizers     Johnson's    ml   \n",
       "4        Bath & Toiletries                          Soaps        Carrie    ml   \n",
       "\n",
       "   qty  amounts   ppu special_requirement country  \n",
       "0  1.0     60.0  None                   -      MY  \n",
       "1  1.0    900.0  None                   -      MY  \n",
       "2  1.0      1.0  None                   -      MY  \n",
       "3  1.0    125.0  None                   -      MY  \n",
       "4  1.0    280.0  None                   -      MY  "
      ]
     },
     "execution_count": 161,
     "metadata": {},
     "output_type": "execute_result"
    }
   ],
   "source": [
    "copy.head()"
   ]
  },
  {
   "cell_type": "code",
   "execution_count": 162,
   "metadata": {},
   "outputs": [],
   "source": [
    "copy.reset_index(inplace=True)"
   ]
  },
  {
   "cell_type": "code",
   "execution_count": 163,
   "metadata": {},
   "outputs": [
    {
     "name": "stdout",
     "output_type": "stream",
     "text": [
      "<class 'pandas.core.frame.DataFrame'>\n",
      "RangeIndex: 57556 entries, 0 to 57555\n",
      "Data columns (total 13 columns):\n",
      " #   Column               Non-Null Count  Dtype  \n",
      "---  ------               --------------  -----  \n",
      " 0   index                57556 non-null  int64  \n",
      " 1   name                 57556 non-null  object \n",
      " 2   price                56325 non-null  float64\n",
      " 3   cat1                 57556 non-null  object \n",
      " 4   cat2                 57556 non-null  object \n",
      " 5   cat3                 57556 non-null  object \n",
      " 6   brand                57539 non-null  object \n",
      " 7   units                57556 non-null  object \n",
      " 8   qty                  57556 non-null  float64\n",
      " 9   amounts              57556 non-null  float64\n",
      " 10  ppu                  57556 non-null  object \n",
      " 11  special_requirement  57556 non-null  object \n",
      " 12  country              57556 non-null  object \n",
      "dtypes: float64(3), int64(1), object(9)\n",
      "memory usage: 5.7+ MB\n"
     ]
    }
   ],
   "source": [
    "copy.info()"
   ]
  },
  {
   "cell_type": "code",
   "execution_count": 164,
   "metadata": {},
   "outputs": [
    {
     "name": "stdout",
     "output_type": "stream",
     "text": [
      "<class 'pandas.core.frame.DataFrame'>\n",
      "Int64Index: 56308 entries, 0 to 57555\n",
      "Data columns (total 13 columns):\n",
      " #   Column               Non-Null Count  Dtype  \n",
      "---  ------               --------------  -----  \n",
      " 0   index                56308 non-null  int64  \n",
      " 1   name                 56308 non-null  object \n",
      " 2   price                56308 non-null  float64\n",
      " 3   cat1                 56308 non-null  object \n",
      " 4   cat2                 56308 non-null  object \n",
      " 5   cat3                 56308 non-null  object \n",
      " 6   brand                56308 non-null  object \n",
      " 7   units                56308 non-null  object \n",
      " 8   qty                  56308 non-null  float64\n",
      " 9   amounts              56308 non-null  float64\n",
      " 10  ppu                  56308 non-null  object \n",
      " 11  special_requirement  56308 non-null  object \n",
      " 12  country              56308 non-null  object \n",
      "dtypes: float64(3), int64(1), object(9)\n",
      "memory usage: 6.0+ MB\n"
     ]
    }
   ],
   "source": [
    "copy = copy.dropna()\n",
    "copy.info()"
   ]
  },
  {
   "cell_type": "code",
   "execution_count": 165,
   "metadata": {},
   "outputs": [
    {
     "name": "stdout",
     "output_type": "stream",
     "text": [
      "<class 'pandas.core.frame.DataFrame'>\n",
      "RangeIndex: 56308 entries, 0 to 56307\n",
      "Data columns (total 14 columns):\n",
      " #   Column               Non-Null Count  Dtype  \n",
      "---  ------               --------------  -----  \n",
      " 0   level_0              56308 non-null  int64  \n",
      " 1   index                56308 non-null  int64  \n",
      " 2   name                 56308 non-null  object \n",
      " 3   price                56308 non-null  float64\n",
      " 4   cat1                 56308 non-null  object \n",
      " 5   cat2                 56308 non-null  object \n",
      " 6   cat3                 56308 non-null  object \n",
      " 7   brand                56308 non-null  object \n",
      " 8   units                56308 non-null  object \n",
      " 9   qty                  56308 non-null  float64\n",
      " 10  amounts              56308 non-null  float64\n",
      " 11  ppu                  56308 non-null  object \n",
      " 12  special_requirement  56308 non-null  object \n",
      " 13  country              56308 non-null  object \n",
      "dtypes: float64(3), int64(2), object(9)\n",
      "memory usage: 6.0+ MB\n"
     ]
    }
   ],
   "source": [
    "copy.reset_index(inplace=True)\n",
    "copy.info()"
   ]
  },
  {
   "cell_type": "code",
   "execution_count": 166,
   "metadata": {},
   "outputs": [
    {
     "data": {
      "text/plain": [
       "['level_0', 'index']"
      ]
     },
     "execution_count": 166,
     "metadata": {},
     "output_type": "execute_result"
    }
   ],
   "source": [
    "false_index = list(copy.columns.values)[:2]\n",
    "false_index"
   ]
  },
  {
   "cell_type": "code",
   "execution_count": 167,
   "metadata": {},
   "outputs": [
    {
     "data": {
      "text/html": [
       "<div>\n",
       "<style scoped>\n",
       "    .dataframe tbody tr th:only-of-type {\n",
       "        vertical-align: middle;\n",
       "    }\n",
       "\n",
       "    .dataframe tbody tr th {\n",
       "        vertical-align: top;\n",
       "    }\n",
       "\n",
       "    .dataframe thead th {\n",
       "        text-align: right;\n",
       "    }\n",
       "</style>\n",
       "<table border=\"1\" class=\"dataframe\">\n",
       "  <thead>\n",
       "    <tr style=\"text-align: right;\">\n",
       "      <th></th>\n",
       "      <th>name</th>\n",
       "      <th>price</th>\n",
       "      <th>cat1</th>\n",
       "      <th>cat2</th>\n",
       "      <th>cat3</th>\n",
       "      <th>brand</th>\n",
       "      <th>units</th>\n",
       "      <th>qty</th>\n",
       "      <th>amounts</th>\n",
       "      <th>ppu</th>\n",
       "      <th>special_requirement</th>\n",
       "      <th>country</th>\n",
       "    </tr>\n",
       "  </thead>\n",
       "  <tbody>\n",
       "    <tr>\n",
       "      <th>0</th>\n",
       "      <td>Heinz Baby Biscotti (60g) - 4 Variants</td>\n",
       "      <td>6.9</td>\n",
       "      <td>Baby &amp; Toys</td>\n",
       "      <td>Formula &amp; Food</td>\n",
       "      <td>Puree</td>\n",
       "      <td>Heinz</td>\n",
       "      <td>g</td>\n",
       "      <td>1.0</td>\n",
       "      <td>60.0</td>\n",
       "      <td>None</td>\n",
       "      <td>-</td>\n",
       "      <td>MY</td>\n",
       "    </tr>\n",
       "    <tr>\n",
       "      <th>1</th>\n",
       "      <td>Snow Neo Baby Step 2 (900g)</td>\n",
       "      <td>87.6</td>\n",
       "      <td>Baby &amp; Toys</td>\n",
       "      <td>Formula &amp; Food</td>\n",
       "      <td>Follow-On Milk (6-12 months)</td>\n",
       "      <td>Snow</td>\n",
       "      <td>g</td>\n",
       "      <td>1.0</td>\n",
       "      <td>900.0</td>\n",
       "      <td>None</td>\n",
       "      <td>-</td>\n",
       "      <td>MY</td>\n",
       "    </tr>\n",
       "    <tr>\n",
       "      <th>2</th>\n",
       "      <td>Cuddly Plush Teddy Bear Cream with Cap 30cm</td>\n",
       "      <td>59.9</td>\n",
       "      <td>Baby &amp; Toys</td>\n",
       "      <td>Toys &amp; Education</td>\n",
       "      <td>Stuffed Toys</td>\n",
       "      <td>Cuddly Plush</td>\n",
       "      <td>ea</td>\n",
       "      <td>1.0</td>\n",
       "      <td>1.0</td>\n",
       "      <td>None</td>\n",
       "      <td>-</td>\n",
       "      <td>MY</td>\n",
       "    </tr>\n",
       "    <tr>\n",
       "      <th>3</th>\n",
       "      <td>Johnson's Baby Oil Lite (125ml)</td>\n",
       "      <td>9.6</td>\n",
       "      <td>Baby &amp; Toys</td>\n",
       "      <td>Kids Health &amp; Skincare</td>\n",
       "      <td>Moisturizers</td>\n",
       "      <td>Johnson's</td>\n",
       "      <td>ml</td>\n",
       "      <td>1.0</td>\n",
       "      <td>125.0</td>\n",
       "      <td>None</td>\n",
       "      <td>-</td>\n",
       "      <td>MY</td>\n",
       "    </tr>\n",
       "    <tr>\n",
       "      <th>4</th>\n",
       "      <td>Carrie Junior Hair &amp; Body Wash - Cheeky Cherry...</td>\n",
       "      <td>8.5</td>\n",
       "      <td>Baby &amp; Toys</td>\n",
       "      <td>Bath &amp; Toiletries</td>\n",
       "      <td>Soaps</td>\n",
       "      <td>Carrie</td>\n",
       "      <td>ml</td>\n",
       "      <td>1.0</td>\n",
       "      <td>280.0</td>\n",
       "      <td>None</td>\n",
       "      <td>-</td>\n",
       "      <td>MY</td>\n",
       "    </tr>\n",
       "  </tbody>\n",
       "</table>\n",
       "</div>"
      ],
      "text/plain": [
       "                                                name  price         cat1  \\\n",
       "0             Heinz Baby Biscotti (60g) - 4 Variants    6.9  Baby & Toys   \n",
       "1                        Snow Neo Baby Step 2 (900g)   87.6  Baby & Toys   \n",
       "2        Cuddly Plush Teddy Bear Cream with Cap 30cm   59.9  Baby & Toys   \n",
       "3                    Johnson's Baby Oil Lite (125ml)    9.6  Baby & Toys   \n",
       "4  Carrie Junior Hair & Body Wash - Cheeky Cherry...    8.5  Baby & Toys   \n",
       "\n",
       "                      cat2                           cat3         brand units  \\\n",
       "0           Formula & Food                          Puree         Heinz     g   \n",
       "1           Formula & Food   Follow-On Milk (6-12 months)          Snow     g   \n",
       "2         Toys & Education                   Stuffed Toys  Cuddly Plush    ea   \n",
       "3   Kids Health & Skincare                   Moisturizers     Johnson's    ml   \n",
       "4        Bath & Toiletries                          Soaps        Carrie    ml   \n",
       "\n",
       "   qty  amounts   ppu special_requirement country  \n",
       "0  1.0     60.0  None                   -      MY  \n",
       "1  1.0    900.0  None                   -      MY  \n",
       "2  1.0      1.0  None                   -      MY  \n",
       "3  1.0    125.0  None                   -      MY  \n",
       "4  1.0    280.0  None                   -      MY  "
      ]
     },
     "execution_count": 167,
     "metadata": {},
     "output_type": "execute_result"
    }
   ],
   "source": [
    "copy = copy.drop(false_index,axis=1)\n",
    "copy.head()"
   ]
  },
  {
   "cell_type": "code",
   "execution_count": 168,
   "metadata": {},
   "outputs": [],
   "source": [
    "copy[\"country\"] = copy[\"country\"].apply(lambda x: x.replace(\"IN\",\"ID\"))"
   ]
  },
  {
   "cell_type": "code",
   "execution_count": 169,
   "metadata": {},
   "outputs": [],
   "source": [
    "copy.to_excel(\"backup_countries_combined.xlsx\",index=False)"
   ]
  },
  {
   "cell_type": "code",
   "execution_count": 170,
   "metadata": {},
   "outputs": [],
   "source": [
    "copy = pd.read_excel(\"backup_countries_combined.xlsx\")"
   ]
  },
  {
   "cell_type": "code",
   "execution_count": 45,
   "metadata": {},
   "outputs": [
    {
     "ename": "ValueError",
     "evalue": "Length of values (0) does not match length of index (56308)",
     "output_type": "error",
     "traceback": [
      "\u001b[1;31m---------------------------------------------------------------------------\u001b[0m",
      "\u001b[1;31mValueError\u001b[0m                                Traceback (most recent call last)",
      "\u001b[1;32m<ipython-input-45-42585c6d2d4c>\u001b[0m in \u001b[0;36m<module>\u001b[1;34m\u001b[0m\n\u001b[0;32m     16\u001b[0m \u001b[1;31m#         extracted = float(re.match(\"\\d+\",temp[0]).group(0))\u001b[0m\u001b[1;33m\u001b[0m\u001b[1;33m\u001b[0m\u001b[1;33m\u001b[0m\u001b[0m\n\u001b[0;32m     17\u001b[0m \u001b[1;31m#         ppu_list.append(extracted)\u001b[0m\u001b[1;33m\u001b[0m\u001b[1;33m\u001b[0m\u001b[1;33m\u001b[0m\u001b[0m\n\u001b[1;32m---> 18\u001b[1;33m \u001b[0mcopy\u001b[0m\u001b[1;33m[\u001b[0m\u001b[1;34m\"ppu\"\u001b[0m\u001b[1;33m]\u001b[0m \u001b[1;33m=\u001b[0m \u001b[0mppu_list\u001b[0m\u001b[1;33m\u001b[0m\u001b[1;33m\u001b[0m\u001b[0m\n\u001b[0m",
      "\u001b[1;32mC:\\anaconda\\lib\\site-packages\\pandas\\core\\frame.py\u001b[0m in \u001b[0;36m__setitem__\u001b[1;34m(self, key, value)\u001b[0m\n\u001b[0;32m   3038\u001b[0m         \u001b[1;32melse\u001b[0m\u001b[1;33m:\u001b[0m\u001b[1;33m\u001b[0m\u001b[1;33m\u001b[0m\u001b[0m\n\u001b[0;32m   3039\u001b[0m             \u001b[1;31m# set column\u001b[0m\u001b[1;33m\u001b[0m\u001b[1;33m\u001b[0m\u001b[1;33m\u001b[0m\u001b[0m\n\u001b[1;32m-> 3040\u001b[1;33m             \u001b[0mself\u001b[0m\u001b[1;33m.\u001b[0m\u001b[0m_set_item\u001b[0m\u001b[1;33m(\u001b[0m\u001b[0mkey\u001b[0m\u001b[1;33m,\u001b[0m \u001b[0mvalue\u001b[0m\u001b[1;33m)\u001b[0m\u001b[1;33m\u001b[0m\u001b[1;33m\u001b[0m\u001b[0m\n\u001b[0m\u001b[0;32m   3041\u001b[0m \u001b[1;33m\u001b[0m\u001b[0m\n\u001b[0;32m   3042\u001b[0m     \u001b[1;32mdef\u001b[0m \u001b[0m_setitem_slice\u001b[0m\u001b[1;33m(\u001b[0m\u001b[0mself\u001b[0m\u001b[1;33m,\u001b[0m \u001b[0mkey\u001b[0m\u001b[1;33m:\u001b[0m \u001b[0mslice\u001b[0m\u001b[1;33m,\u001b[0m \u001b[0mvalue\u001b[0m\u001b[1;33m)\u001b[0m\u001b[1;33m:\u001b[0m\u001b[1;33m\u001b[0m\u001b[1;33m\u001b[0m\u001b[0m\n",
      "\u001b[1;32mC:\\anaconda\\lib\\site-packages\\pandas\\core\\frame.py\u001b[0m in \u001b[0;36m_set_item\u001b[1;34m(self, key, value)\u001b[0m\n\u001b[0;32m   3114\u001b[0m         \"\"\"\n\u001b[0;32m   3115\u001b[0m         \u001b[0mself\u001b[0m\u001b[1;33m.\u001b[0m\u001b[0m_ensure_valid_index\u001b[0m\u001b[1;33m(\u001b[0m\u001b[0mvalue\u001b[0m\u001b[1;33m)\u001b[0m\u001b[1;33m\u001b[0m\u001b[1;33m\u001b[0m\u001b[0m\n\u001b[1;32m-> 3116\u001b[1;33m         \u001b[0mvalue\u001b[0m \u001b[1;33m=\u001b[0m \u001b[0mself\u001b[0m\u001b[1;33m.\u001b[0m\u001b[0m_sanitize_column\u001b[0m\u001b[1;33m(\u001b[0m\u001b[0mkey\u001b[0m\u001b[1;33m,\u001b[0m \u001b[0mvalue\u001b[0m\u001b[1;33m)\u001b[0m\u001b[1;33m\u001b[0m\u001b[1;33m\u001b[0m\u001b[0m\n\u001b[0m\u001b[0;32m   3117\u001b[0m         \u001b[0mNDFrame\u001b[0m\u001b[1;33m.\u001b[0m\u001b[0m_set_item\u001b[0m\u001b[1;33m(\u001b[0m\u001b[0mself\u001b[0m\u001b[1;33m,\u001b[0m \u001b[0mkey\u001b[0m\u001b[1;33m,\u001b[0m \u001b[0mvalue\u001b[0m\u001b[1;33m)\u001b[0m\u001b[1;33m\u001b[0m\u001b[1;33m\u001b[0m\u001b[0m\n\u001b[0;32m   3118\u001b[0m \u001b[1;33m\u001b[0m\u001b[0m\n",
      "\u001b[1;32mC:\\anaconda\\lib\\site-packages\\pandas\\core\\frame.py\u001b[0m in \u001b[0;36m_sanitize_column\u001b[1;34m(self, key, value, broadcast)\u001b[0m\n\u001b[0;32m   3762\u001b[0m \u001b[1;33m\u001b[0m\u001b[0m\n\u001b[0;32m   3763\u001b[0m             \u001b[1;31m# turn me into an ndarray\u001b[0m\u001b[1;33m\u001b[0m\u001b[1;33m\u001b[0m\u001b[1;33m\u001b[0m\u001b[0m\n\u001b[1;32m-> 3764\u001b[1;33m             \u001b[0mvalue\u001b[0m \u001b[1;33m=\u001b[0m \u001b[0msanitize_index\u001b[0m\u001b[1;33m(\u001b[0m\u001b[0mvalue\u001b[0m\u001b[1;33m,\u001b[0m \u001b[0mself\u001b[0m\u001b[1;33m.\u001b[0m\u001b[0mindex\u001b[0m\u001b[1;33m)\u001b[0m\u001b[1;33m\u001b[0m\u001b[1;33m\u001b[0m\u001b[0m\n\u001b[0m\u001b[0;32m   3765\u001b[0m             \u001b[1;32mif\u001b[0m \u001b[1;32mnot\u001b[0m \u001b[0misinstance\u001b[0m\u001b[1;33m(\u001b[0m\u001b[0mvalue\u001b[0m\u001b[1;33m,\u001b[0m \u001b[1;33m(\u001b[0m\u001b[0mnp\u001b[0m\u001b[1;33m.\u001b[0m\u001b[0mndarray\u001b[0m\u001b[1;33m,\u001b[0m \u001b[0mIndex\u001b[0m\u001b[1;33m)\u001b[0m\u001b[1;33m)\u001b[0m\u001b[1;33m:\u001b[0m\u001b[1;33m\u001b[0m\u001b[1;33m\u001b[0m\u001b[0m\n\u001b[0;32m   3766\u001b[0m                 \u001b[1;32mif\u001b[0m \u001b[0misinstance\u001b[0m\u001b[1;33m(\u001b[0m\u001b[0mvalue\u001b[0m\u001b[1;33m,\u001b[0m \u001b[0mlist\u001b[0m\u001b[1;33m)\u001b[0m \u001b[1;32mand\u001b[0m \u001b[0mlen\u001b[0m\u001b[1;33m(\u001b[0m\u001b[0mvalue\u001b[0m\u001b[1;33m)\u001b[0m \u001b[1;33m>\u001b[0m \u001b[1;36m0\u001b[0m\u001b[1;33m:\u001b[0m\u001b[1;33m\u001b[0m\u001b[1;33m\u001b[0m\u001b[0m\n",
      "\u001b[1;32mC:\\anaconda\\lib\\site-packages\\pandas\\core\\internals\\construction.py\u001b[0m in \u001b[0;36msanitize_index\u001b[1;34m(data, index)\u001b[0m\n\u001b[0;32m    745\u001b[0m     \"\"\"\n\u001b[0;32m    746\u001b[0m     \u001b[1;32mif\u001b[0m \u001b[0mlen\u001b[0m\u001b[1;33m(\u001b[0m\u001b[0mdata\u001b[0m\u001b[1;33m)\u001b[0m \u001b[1;33m!=\u001b[0m \u001b[0mlen\u001b[0m\u001b[1;33m(\u001b[0m\u001b[0mindex\u001b[0m\u001b[1;33m)\u001b[0m\u001b[1;33m:\u001b[0m\u001b[1;33m\u001b[0m\u001b[1;33m\u001b[0m\u001b[0m\n\u001b[1;32m--> 747\u001b[1;33m         raise ValueError(\n\u001b[0m\u001b[0;32m    748\u001b[0m             \u001b[1;34m\"Length of values \"\u001b[0m\u001b[1;33m\u001b[0m\u001b[1;33m\u001b[0m\u001b[0m\n\u001b[0;32m    749\u001b[0m             \u001b[1;34mf\"({len(data)}) \"\u001b[0m\u001b[1;33m\u001b[0m\u001b[1;33m\u001b[0m\u001b[0m\n",
      "\u001b[1;31mValueError\u001b[0m: Length of values (0) does not match length of index (56308)"
     ]
    }
   ],
   "source": [
    "ppu_list = []\n",
    "for i in copy.index:\n",
    "    ppu = copy[\"ppu\"][i]\n",
    "    units = copy[\"units\"][i]\n",
    "    price = copy[\"price\"][i]\n",
    "    qty = copy[\"qty\"][i]\n",
    "    amnts = copy[\"amounts\"][i]\n",
    "    if ppu == \"None\" and units in [\"g\",\"ml\"]:\n",
    "        ppu_list.append(price/(qty*amnts)*10)\n",
    "    elif ppu == \"None\" and units in [\"kg\",\"l\"]:\n",
    "        ppu_list.append(price/(qty*amnts*1000)*10)\n",
    "    elif ppu == \"None\":\n",
    "        ppu_list.append(price/(qty*amnts))\n",
    "    else:\n",
    "        temp = ppu.split(\"/\")\n",
    "        extracted = float(re.match(\"\\d+\",temp[0]).group(0))\n",
    "        ppu_list.append(extracted)\n",
    "copy[\"ppu\"] = ppu_list"
   ]
  },
  {
   "cell_type": "code",
   "execution_count": 174,
   "metadata": {},
   "outputs": [],
   "source": [
    "copy.to_excel(\"backup_countries_combined2.xlsx\",index=False)"
   ]
  },
  {
   "cell_type": "code",
   "execution_count": 80,
   "metadata": {},
   "outputs": [
    {
     "data": {
      "text/plain": [
       "{'ID', 'KR', 'MY', 'PH', 'SG'}"
      ]
     },
     "execution_count": 80,
     "metadata": {},
     "output_type": "execute_result"
    }
   ],
   "source": [
    "country = set([i for i in copy[\"country\"]])\n",
    "country"
   ]
  },
  {
   "cell_type": "markdown",
   "metadata": {},
   "source": [
    "### converting from other currencies to won"
   ]
  },
  {
   "cell_type": "code",
   "execution_count": 76,
   "metadata": {},
   "outputs": [],
   "source": [
    "from forex_python.converter import CurrencyRates\n",
    "c = CurrencyRates()"
   ]
  },
  {
   "cell_type": "code",
   "execution_count": 83,
   "metadata": {},
   "outputs": [
    {
     "data": {
      "text/plain": [
       "0.0783350313"
      ]
     },
     "execution_count": 83,
     "metadata": {},
     "output_type": "execute_result"
    }
   ],
   "source": [
    "c.get_rates('IDR')[\"KRW\"]"
   ]
  },
  {
   "cell_type": "markdown",
   "metadata": {},
   "source": [
    "#### curency codes are\n",
    "##### Korea = KRW\n",
    "##### Singapore = SGD\n",
    "##### Malaysia = MYR\n",
    "##### Indonesia = IDR\n",
    "##### Philippines = PHP"
   ]
  },
  {
   "cell_type": "code",
   "execution_count": 84,
   "metadata": {},
   "outputs": [
    {
     "data": {
      "text/plain": [
       "{'SGD': 831.1709253287,\n",
       " 'MYR': 272.6769618914,\n",
       " 'IDR': 0.0783350313,\n",
       " 'PHP': 22.9376829206}"
      ]
     },
     "execution_count": 84,
     "metadata": {},
     "output_type": "execute_result"
    }
   ],
   "source": [
    "country_codes = [\"SGD\",\"MYR\",\"IDR\",\"PHP\"]\n",
    "exchange_rates = {}\n",
    "for i in country_codes:\n",
    "    exchange_rates[i] = c.get_rates(i)[\"KRW\"]\n",
    "exchange_rates"
   ]
  },
  {
   "cell_type": "code",
   "execution_count": 175,
   "metadata": {},
   "outputs": [
    {
     "data": {
      "text/plain": [
       "{'SGD': 831.1709253287,\n",
       " 'MYR': 272.6769618914,\n",
       " 'IDR': 0.0783350313,\n",
       " 'PHP': 22.9376829206}"
      ]
     },
     "execution_count": 175,
     "metadata": {},
     "output_type": "execute_result"
    }
   ],
   "source": [
    "exchange_rates"
   ]
  },
  {
   "cell_type": "code",
   "execution_count": 86,
   "metadata": {},
   "outputs": [
    {
     "data": {
      "text/plain": [
       "float"
      ]
     },
     "execution_count": 86,
     "metadata": {},
     "output_type": "execute_result"
    }
   ],
   "source": [
    "type(exchange_rates['SGD'])"
   ]
  },
  {
   "cell_type": "code",
   "execution_count": 176,
   "metadata": {},
   "outputs": [],
   "source": [
    "ppu_converted = []\n",
    "for i in copy.index:\n",
    "    country = copy[\"country\"][i]\n",
    "    ppu = copy[\"ppu\"][i]\n",
    "    if country == \"KR\":\n",
    "        ppu_converted.append(ppu)\n",
    "    elif country == \"SG\":\n",
    "        converted = ppu * exchange_rates['SGD']\n",
    "        ppu_converted.append(converted)\n",
    "    elif country == \"MY\":\n",
    "        converted = ppu * exchange_rates['MYR']\n",
    "        ppu_converted.append(converted)\n",
    "    elif country == \"ID\":\n",
    "        converted = ppu * exchange_rates['IDR']\n",
    "        ppu_converted.append(converted)\n",
    "    elif country == \"PH\":\n",
    "        converted = ppu * exchange_rates['PHP']\n",
    "        ppu_converted.append(converted)\n",
    "copy[\"ppu\"] = ppu_converted"
   ]
  },
  {
   "cell_type": "code",
   "execution_count": 177,
   "metadata": {},
   "outputs": [
    {
     "data": {
      "text/html": [
       "<div>\n",
       "<style scoped>\n",
       "    .dataframe tbody tr th:only-of-type {\n",
       "        vertical-align: middle;\n",
       "    }\n",
       "\n",
       "    .dataframe tbody tr th {\n",
       "        vertical-align: top;\n",
       "    }\n",
       "\n",
       "    .dataframe thead th {\n",
       "        text-align: right;\n",
       "    }\n",
       "</style>\n",
       "<table border=\"1\" class=\"dataframe\">\n",
       "  <thead>\n",
       "    <tr style=\"text-align: right;\">\n",
       "      <th></th>\n",
       "      <th>name</th>\n",
       "      <th>price</th>\n",
       "      <th>cat1</th>\n",
       "      <th>cat2</th>\n",
       "      <th>cat3</th>\n",
       "      <th>brand</th>\n",
       "      <th>units</th>\n",
       "      <th>qty</th>\n",
       "      <th>amounts</th>\n",
       "      <th>ppu</th>\n",
       "      <th>special_requirement</th>\n",
       "      <th>country</th>\n",
       "    </tr>\n",
       "  </thead>\n",
       "  <tbody>\n",
       "    <tr>\n",
       "      <th>0</th>\n",
       "      <td>Heinz Baby Biscotti (60g) - 4 Variants</td>\n",
       "      <td>6.9</td>\n",
       "      <td>Baby &amp; Toys</td>\n",
       "      <td>Formula &amp; Food</td>\n",
       "      <td>Puree</td>\n",
       "      <td>Heinz</td>\n",
       "      <td>g</td>\n",
       "      <td>1</td>\n",
       "      <td>60.0</td>\n",
       "      <td>313.578506</td>\n",
       "      <td>-</td>\n",
       "      <td>MY</td>\n",
       "    </tr>\n",
       "    <tr>\n",
       "      <th>1</th>\n",
       "      <td>Snow Neo Baby Step 2 (900g)</td>\n",
       "      <td>87.6</td>\n",
       "      <td>Baby &amp; Toys</td>\n",
       "      <td>Formula &amp; Food</td>\n",
       "      <td>Follow-On Milk (6-12 months)</td>\n",
       "      <td>Snow</td>\n",
       "      <td>g</td>\n",
       "      <td>1</td>\n",
       "      <td>900.0</td>\n",
       "      <td>265.405576</td>\n",
       "      <td>-</td>\n",
       "      <td>MY</td>\n",
       "    </tr>\n",
       "    <tr>\n",
       "      <th>2</th>\n",
       "      <td>Cuddly Plush Teddy Bear Cream with Cap 30cm</td>\n",
       "      <td>59.9</td>\n",
       "      <td>Baby &amp; Toys</td>\n",
       "      <td>Toys &amp; Education</td>\n",
       "      <td>Stuffed Toys</td>\n",
       "      <td>Cuddly Plush</td>\n",
       "      <td>ea</td>\n",
       "      <td>1</td>\n",
       "      <td>1.0</td>\n",
       "      <td>16333.350017</td>\n",
       "      <td>-</td>\n",
       "      <td>MY</td>\n",
       "    </tr>\n",
       "    <tr>\n",
       "      <th>3</th>\n",
       "      <td>Johnson's Baby Oil Lite (125ml)</td>\n",
       "      <td>9.6</td>\n",
       "      <td>Baby &amp; Toys</td>\n",
       "      <td>Kids Health &amp; Skincare</td>\n",
       "      <td>Moisturizers</td>\n",
       "      <td>Johnson's</td>\n",
       "      <td>ml</td>\n",
       "      <td>1</td>\n",
       "      <td>125.0</td>\n",
       "      <td>209.415907</td>\n",
       "      <td>-</td>\n",
       "      <td>MY</td>\n",
       "    </tr>\n",
       "    <tr>\n",
       "      <th>4</th>\n",
       "      <td>Carrie Junior Hair &amp; Body Wash - Cheeky Cherry...</td>\n",
       "      <td>8.5</td>\n",
       "      <td>Baby &amp; Toys</td>\n",
       "      <td>Bath &amp; Toiletries</td>\n",
       "      <td>Soaps</td>\n",
       "      <td>Carrie</td>\n",
       "      <td>ml</td>\n",
       "      <td>1</td>\n",
       "      <td>280.0</td>\n",
       "      <td>82.776935</td>\n",
       "      <td>-</td>\n",
       "      <td>MY</td>\n",
       "    </tr>\n",
       "  </tbody>\n",
       "</table>\n",
       "</div>"
      ],
      "text/plain": [
       "                                                name  price         cat1  \\\n",
       "0             Heinz Baby Biscotti (60g) - 4 Variants    6.9  Baby & Toys   \n",
       "1                        Snow Neo Baby Step 2 (900g)   87.6  Baby & Toys   \n",
       "2        Cuddly Plush Teddy Bear Cream with Cap 30cm   59.9  Baby & Toys   \n",
       "3                    Johnson's Baby Oil Lite (125ml)    9.6  Baby & Toys   \n",
       "4  Carrie Junior Hair & Body Wash - Cheeky Cherry...    8.5  Baby & Toys   \n",
       "\n",
       "                      cat2                           cat3         brand units  \\\n",
       "0           Formula & Food                          Puree         Heinz     g   \n",
       "1           Formula & Food   Follow-On Milk (6-12 months)          Snow     g   \n",
       "2         Toys & Education                   Stuffed Toys  Cuddly Plush    ea   \n",
       "3   Kids Health & Skincare                   Moisturizers     Johnson's    ml   \n",
       "4        Bath & Toiletries                          Soaps        Carrie    ml   \n",
       "\n",
       "   qty  amounts           ppu special_requirement country  \n",
       "0    1     60.0    313.578506                   -      MY  \n",
       "1    1    900.0    265.405576                   -      MY  \n",
       "2    1      1.0  16333.350017                   -      MY  \n",
       "3    1    125.0    209.415907                   -      MY  \n",
       "4    1    280.0     82.776935                   -      MY  "
      ]
     },
     "execution_count": 177,
     "metadata": {},
     "output_type": "execute_result"
    }
   ],
   "source": [
    "copy.head()"
   ]
  },
  {
   "cell_type": "code",
   "execution_count": 178,
   "metadata": {},
   "outputs": [],
   "source": [
    "copy.to_excel(\"backup_countries_combined3.xlsx\",index=False)"
   ]
  },
  {
   "cell_type": "markdown",
   "metadata": {},
   "source": [
    "### I keep doing dumb shit and wasting time"
   ]
  },
  {
   "cell_type": "markdown",
   "metadata": {},
   "source": [
    "### categories were all over the place for the countries so looked over them and unified the categories"
   ]
  },
  {
   "cell_type": "code",
   "execution_count": 33,
   "metadata": {},
   "outputs": [],
   "source": [
    "raw = pd.read_excel(\"backup_countries_combined3.xlsx\",sheet_name=\"Sheet1\")\n",
    "categories_fixed = pd.read_excel(\"backup_countries_combined3.xlsx\",sheet_name=\"Sheet2\")"
   ]
  },
  {
   "cell_type": "code",
   "execution_count": 34,
   "metadata": {},
   "outputs": [
    {
     "data": {
      "text/html": [
       "<div>\n",
       "<style scoped>\n",
       "    .dataframe tbody tr th:only-of-type {\n",
       "        vertical-align: middle;\n",
       "    }\n",
       "\n",
       "    .dataframe tbody tr th {\n",
       "        vertical-align: top;\n",
       "    }\n",
       "\n",
       "    .dataframe thead th {\n",
       "        text-align: right;\n",
       "    }\n",
       "</style>\n",
       "<table border=\"1\" class=\"dataframe\">\n",
       "  <thead>\n",
       "    <tr style=\"text-align: right;\">\n",
       "      <th></th>\n",
       "      <th>cat2</th>\n",
       "      <th>cat2mapped</th>\n",
       "    </tr>\n",
       "  </thead>\n",
       "  <tbody>\n",
       "    <tr>\n",
       "      <th>0</th>\n",
       "      <td>Formula</td>\n",
       "      <td>Formula</td>\n",
       "    </tr>\n",
       "    <tr>\n",
       "      <th>1</th>\n",
       "      <td>Food</td>\n",
       "      <td>Food</td>\n",
       "    </tr>\n",
       "    <tr>\n",
       "      <th>2</th>\n",
       "      <td>Toys &amp; Education</td>\n",
       "      <td>Toys &amp; Education</td>\n",
       "    </tr>\n",
       "    <tr>\n",
       "      <th>3</th>\n",
       "      <td>Kids Health &amp; Skincare</td>\n",
       "      <td>Kids Health &amp; Skincare</td>\n",
       "    </tr>\n",
       "    <tr>\n",
       "      <th>4</th>\n",
       "      <td>Bath &amp; Toiletries</td>\n",
       "      <td>Bath &amp; Toiletries</td>\n",
       "    </tr>\n",
       "    <tr>\n",
       "      <th>5</th>\n",
       "      <td>Diapers &amp; Potties</td>\n",
       "      <td>Diapers</td>\n",
       "    </tr>\n",
       "    <tr>\n",
       "      <th>6</th>\n",
       "      <td>Nursery</td>\n",
       "      <td>Nursery</td>\n",
       "    </tr>\n",
       "    <tr>\n",
       "      <th>7</th>\n",
       "      <td>Feeding &amp; Nursing</td>\n",
       "      <td>Feeding &amp; Nursing</td>\n",
       "    </tr>\n",
       "    <tr>\n",
       "      <th>8</th>\n",
       "      <td>Baby Gear</td>\n",
       "      <td>Baby Gear</td>\n",
       "    </tr>\n",
       "    <tr>\n",
       "      <th>9</th>\n",
       "      <td>Baby &amp; Toddler Play</td>\n",
       "      <td>Baby &amp; Toddler Play</td>\n",
       "    </tr>\n",
       "    <tr>\n",
       "      <th>10</th>\n",
       "      <td>Kids Sports &amp; Outdoor Play</td>\n",
       "      <td>Kids Sports &amp; Outdoor Play</td>\n",
       "    </tr>\n",
       "    <tr>\n",
       "      <th>11</th>\n",
       "      <td>Baby Safety</td>\n",
       "      <td>Baby Safety</td>\n",
       "    </tr>\n",
       "    <tr>\n",
       "      <th>12</th>\n",
       "      <td>Maternity Care</td>\n",
       "      <td>Maternity</td>\n",
       "    </tr>\n",
       "    <tr>\n",
       "      <th>13</th>\n",
       "      <td>Others.</td>\n",
       "      <td>Others.</td>\n",
       "    </tr>\n",
       "    <tr>\n",
       "      <th>14</th>\n",
       "      <td>Diapers</td>\n",
       "      <td>Diapers</td>\n",
       "    </tr>\n",
       "    <tr>\n",
       "      <th>15</th>\n",
       "      <td>Wipes</td>\n",
       "      <td>Wipes</td>\n",
       "    </tr>\n",
       "    <tr>\n",
       "      <th>16</th>\n",
       "      <td>Baby Detergent</td>\n",
       "      <td>Baby Laundry</td>\n",
       "    </tr>\n",
       "    <tr>\n",
       "      <th>17</th>\n",
       "      <td>Moms &amp; Maternity</td>\n",
       "      <td>Maternity</td>\n",
       "    </tr>\n",
       "    <tr>\n",
       "      <th>18</th>\n",
       "      <td>Diapers &amp; Wipes</td>\n",
       "      <td>Diapers</td>\n",
       "    </tr>\n",
       "    <tr>\n",
       "      <th>19</th>\n",
       "      <td>Health &amp; Safety</td>\n",
       "      <td>Bath &amp; Toiletries</td>\n",
       "    </tr>\n",
       "  </tbody>\n",
       "</table>\n",
       "</div>"
      ],
      "text/plain": [
       "                          cat2                  cat2mapped\n",
       "0                      Formula                     Formula\n",
       "1                         Food                        Food\n",
       "2             Toys & Education            Toys & Education\n",
       "3       Kids Health & Skincare      Kids Health & Skincare\n",
       "4            Bath & Toiletries           Bath & Toiletries\n",
       "5            Diapers & Potties                     Diapers\n",
       "6                      Nursery                     Nursery\n",
       "7            Feeding & Nursing           Feeding & Nursing\n",
       "8                    Baby Gear                   Baby Gear\n",
       "9          Baby & Toddler Play         Baby & Toddler Play\n",
       "10  Kids Sports & Outdoor Play  Kids Sports & Outdoor Play\n",
       "11                 Baby Safety                 Baby Safety\n",
       "12              Maternity Care                   Maternity\n",
       "13                     Others.                     Others.\n",
       "14                     Diapers                     Diapers\n",
       "15                       Wipes                       Wipes\n",
       "16              Baby Detergent                Baby Laundry\n",
       "17            Moms & Maternity                   Maternity\n",
       "18             Diapers & Wipes                     Diapers\n",
       "19             Health & Safety           Bath & Toiletries"
      ]
     },
     "execution_count": 34,
     "metadata": {},
     "output_type": "execute_result"
    }
   ],
   "source": [
    "categories_fixed.head(20)"
   ]
  },
  {
   "cell_type": "code",
   "execution_count": 35,
   "metadata": {},
   "outputs": [],
   "source": [
    "category_map = categories_fixed.set_index('cat2').T.to_dict('list')"
   ]
  },
  {
   "cell_type": "code",
   "execution_count": 36,
   "metadata": {},
   "outputs": [],
   "source": [
    "copy = raw.copy()"
   ]
  },
  {
   "cell_type": "code",
   "execution_count": 37,
   "metadata": {},
   "outputs": [
    {
     "name": "stdout",
     "output_type": "stream",
     "text": [
      "<class 'pandas.core.frame.DataFrame'>\n",
      "RangeIndex: 56308 entries, 0 to 56307\n",
      "Data columns (total 12 columns):\n",
      " #   Column               Non-Null Count  Dtype  \n",
      "---  ------               --------------  -----  \n",
      " 0   name                 56308 non-null  object \n",
      " 1   price                56308 non-null  float64\n",
      " 2   cat1                 56308 non-null  object \n",
      " 3   cat2                 56308 non-null  object \n",
      " 4   cat3                 56308 non-null  object \n",
      " 5   brand                56308 non-null  object \n",
      " 6   units                56308 non-null  object \n",
      " 7   qty                  56308 non-null  int64  \n",
      " 8   amounts              56308 non-null  float64\n",
      " 9   ppu                  56308 non-null  float64\n",
      " 10  special_requirement  56308 non-null  object \n",
      " 11  country              56308 non-null  object \n",
      "dtypes: float64(3), int64(1), object(8)\n",
      "memory usage: 5.2+ MB\n"
     ]
    }
   ],
   "source": [
    "copy.info()"
   ]
  },
  {
   "cell_type": "code",
   "execution_count": 38,
   "metadata": {},
   "outputs": [
    {
     "data": {
      "text/plain": [
       "'Food'"
      ]
     },
     "execution_count": 38,
     "metadata": {},
     "output_type": "execute_result"
    }
   ],
   "source": [
    "category_map[copy[\"cat2\"][0]][0]"
   ]
  },
  {
   "cell_type": "code",
   "execution_count": 39,
   "metadata": {},
   "outputs": [],
   "source": [
    "fixed_cat2 = []\n",
    "\n",
    "for i in copy.index:\n",
    "    fixed = category_map[copy[\"cat2\"][i]][0]\n",
    "    fixed_cat2.append(fixed)\n",
    "\n",
    "copy[\"cat2\"] = fixed_cat2"
   ]
  },
  {
   "cell_type": "code",
   "execution_count": 40,
   "metadata": {},
   "outputs": [],
   "source": [
    "copy.to_excel(\"backup_countries_combined4.xlsx\",index=False)"
   ]
  },
  {
   "cell_type": "code",
   "execution_count": null,
   "metadata": {},
   "outputs": [],
   "source": []
  }
 ],
 "metadata": {
  "kernelspec": {
   "display_name": "Python 3",
   "language": "python",
   "name": "python3"
  },
  "language_info": {
   "codemirror_mode": {
    "name": "ipython",
    "version": 3
   },
   "file_extension": ".py",
   "mimetype": "text/x-python",
   "name": "python",
   "nbconvert_exporter": "python",
   "pygments_lexer": "ipython3",
   "version": "3.8.5"
  }
 },
 "nbformat": 4,
 "nbformat_minor": 4
}
